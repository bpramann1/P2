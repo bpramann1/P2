{
 "cells": [
  {
   "cell_type": "code",
   "execution_count": 1,
   "metadata": {},
   "outputs": [],
   "source": [
    "import numpy as np"
   ]
  },
  {
   "cell_type": "code",
   "execution_count": 2,
   "metadata": {},
   "outputs": [],
   "source": [
    "import pandas as pd"
   ]
  },
  {
   "cell_type": "code",
   "execution_count": 3,
   "metadata": {},
   "outputs": [],
   "source": [
    "import random"
   ]
  },
  {
   "cell_type": "code",
   "execution_count": 4,
   "metadata": {},
   "outputs": [],
   "source": [
    "from sklearn import preprocessing"
   ]
  },
  {
   "cell_type": "code",
   "execution_count": 5,
   "metadata": {},
   "outputs": [],
   "source": [
    "from sklearn.model_selection import train_test_split"
   ]
  },
  {
   "cell_type": "code",
   "execution_count": 6,
   "metadata": {},
   "outputs": [],
   "source": [
    "from keras.utils import to_categorical"
   ]
  },
  {
   "cell_type": "code",
   "execution_count": 7,
   "metadata": {},
   "outputs": [],
   "source": [
    "from sklearn.svm import LinearSVC"
   ]
  },
  {
   "cell_type": "code",
   "execution_count": 8,
   "metadata": {},
   "outputs": [],
   "source": [
    "from sklearn.pipeline import make_pipeline"
   ]
  },
  {
   "cell_type": "code",
   "execution_count": 9,
   "metadata": {},
   "outputs": [],
   "source": [
    "from sklearn.preprocessing import StandardScaler"
   ]
  },
  {
   "cell_type": "code",
   "execution_count": 10,
   "metadata": {},
   "outputs": [],
   "source": [
    "from sklearn.datasets import make_classification"
   ]
  },
  {
   "cell_type": "code",
   "execution_count": 11,
   "metadata": {},
   "outputs": [],
   "source": [
    "import keras.models"
   ]
  },
  {
   "cell_type": "code",
   "execution_count": 12,
   "metadata": {},
   "outputs": [],
   "source": [
    "from keras.models import Sequential"
   ]
  },
  {
   "cell_type": "code",
   "execution_count": 13,
   "metadata": {},
   "outputs": [],
   "source": [
    "from keras.layers import Dense"
   ]
  },
  {
   "cell_type": "code",
   "execution_count": 14,
   "metadata": {},
   "outputs": [],
   "source": [
    "from keras.optimizers import SGD"
   ]
  },
  {
   "cell_type": "code",
   "execution_count": 15,
   "metadata": {},
   "outputs": [],
   "source": [
    "sData = pd.read_csv('Shakespeare_data.csv')\n",
    "sData = sData.loc[sData['Play'] == 'Henry IV']"
   ]
  },
  {
   "cell_type": "code",
   "execution_count": 16,
   "metadata": {},
   "outputs": [
    {
     "name": "stdout",
     "output_type": "stream",
     "text": [
      "      Dataline      Play  PlayerLinenumber ActSceneLine         Player  \\\n",
      "0            1  Henry IV               NaN          NaN            NaN   \n",
      "1            2  Henry IV               NaN          NaN            NaN   \n",
      "2            3  Henry IV               NaN          NaN            NaN   \n",
      "3            4  Henry IV               1.0        1.1.1  KING HENRY IV   \n",
      "4            5  Henry IV               1.0        1.1.2  KING HENRY IV   \n",
      "...        ...       ...               ...          ...            ...   \n",
      "3200      3201  Henry IV               8.0       5.5.42  KING HENRY IV   \n",
      "3201      3202  Henry IV               8.0       5.5.43  KING HENRY IV   \n",
      "3202      3203  Henry IV               8.0       5.5.44  KING HENRY IV   \n",
      "3203      3204  Henry IV               8.0       5.5.45  KING HENRY IV   \n",
      "3204      3205  Henry IV               8.0          NaN  KING HENRY IV   \n",
      "\n",
      "                                             PlayerLine  \n",
      "0                                                 ACT I  \n",
      "1                          SCENE I. London. The palace.  \n",
      "2     Enter KING HENRY, LORD JOHN OF LANCASTER, the ...  \n",
      "3                So shaken as we are, so wan with care,  \n",
      "4            Find we a time for frighted peace to pant,  \n",
      "...                                                 ...  \n",
      "3200        Rebellion in this land shall lose his sway,  \n",
      "3201            Meeting the cheque of such another day:  \n",
      "3202           And since this business so fair is done,  \n",
      "3203          Let us not leave till all our own be won.  \n",
      "3204                                             Exeunt  \n",
      "\n",
      "[3205 rows x 6 columns]\n"
     ]
    }
   ],
   "source": [
    "print(sData)"
   ]
  },
  {
   "cell_type": "code",
   "execution_count": 17,
   "metadata": {},
   "outputs": [],
   "source": [
    "sData['Player'].replace('', np.nan, inplace=True)"
   ]
  },
  {
   "cell_type": "code",
   "execution_count": 18,
   "metadata": {},
   "outputs": [
    {
     "data": {
      "text/plain": [
       "3       KING HENRY IV\n",
       "4       KING HENRY IV\n",
       "5       KING HENRY IV\n",
       "6       KING HENRY IV\n",
       "7       KING HENRY IV\n",
       "            ...      \n",
       "3200    KING HENRY IV\n",
       "3201    KING HENRY IV\n",
       "3202    KING HENRY IV\n",
       "3203    KING HENRY IV\n",
       "3204    KING HENRY IV\n",
       "Name: Player, Length: 3200, dtype: object"
      ]
     },
     "execution_count": 18,
     "metadata": {},
     "output_type": "execute_result"
    }
   ],
   "source": [
    "sData['Player'].dropna()"
   ]
  },
  {
   "cell_type": "code",
   "execution_count": 19,
   "metadata": {},
   "outputs": [
    {
     "name": "stdout",
     "output_type": "stream",
     "text": [
      "      Dataline      Play  PlayerLinenumber ActSceneLine         Player  \\\n",
      "0            1  Henry IV               NaN          NaN            NaN   \n",
      "1            2  Henry IV               NaN          NaN            NaN   \n",
      "2            3  Henry IV               NaN          NaN            NaN   \n",
      "3            4  Henry IV               1.0        1.1.1  KING HENRY IV   \n",
      "4            5  Henry IV               1.0        1.1.2  KING HENRY IV   \n",
      "...        ...       ...               ...          ...            ...   \n",
      "3200      3201  Henry IV               8.0       5.5.42  KING HENRY IV   \n",
      "3201      3202  Henry IV               8.0       5.5.43  KING HENRY IV   \n",
      "3202      3203  Henry IV               8.0       5.5.44  KING HENRY IV   \n",
      "3203      3204  Henry IV               8.0       5.5.45  KING HENRY IV   \n",
      "3204      3205  Henry IV               8.0          NaN  KING HENRY IV   \n",
      "\n",
      "                                             PlayerLine  \n",
      "0                                                 ACT I  \n",
      "1                          SCENE I. London. The palace.  \n",
      "2     Enter KING HENRY, LORD JOHN OF LANCASTER, the ...  \n",
      "3                So shaken as we are, so wan with care,  \n",
      "4            Find we a time for frighted peace to pant,  \n",
      "...                                                 ...  \n",
      "3200        Rebellion in this land shall lose his sway,  \n",
      "3201            Meeting the cheque of such another day:  \n",
      "3202           And since this business so fair is done,  \n",
      "3203          Let us not leave till all our own be won.  \n",
      "3204                                             Exeunt  \n",
      "\n",
      "[3205 rows x 6 columns]\n"
     ]
    }
   ],
   "source": [
    "print(sData)"
   ]
  },
  {
   "cell_type": "code",
   "execution_count": 20,
   "metadata": {},
   "outputs": [],
   "source": [
    "players = sData.Player.unique()"
   ]
  },
  {
   "cell_type": "code",
   "execution_count": 21,
   "metadata": {},
   "outputs": [
    {
     "name": "stdout",
     "output_type": "stream",
     "text": [
      "[nan 'KING HENRY IV' 'WESTMORELAND' 'FALSTAFF' 'PRINCE HENRY' 'POINS'\n",
      " 'EARL OF WORCESTER' 'NORTHUMBERLAND' 'HOTSPUR' 'SIR WALTER BLUNT'\n",
      " 'First Carrier' 'Ostler' 'Second Carrier' 'GADSHILL' 'Chamberlain'\n",
      " 'BARDOLPH' 'PETO' 'First Traveller' 'Thieves' 'Travellers' 'LADY PERCY'\n",
      " 'Servant' 'FRANCIS' 'Vintner' 'Hostess' 'Sheriff' 'Carrier' 'MORTIMER'\n",
      " 'GLENDOWER' 'EARL OF DOUGLAS' 'Messenger' 'VERNON' 'WORCESTER'\n",
      " 'ARCHBISHOP OF YORK' 'SIR MICHAEL' 'LANCASTER']\n"
     ]
    }
   ],
   "source": [
    "print(players)"
   ]
  },
  {
   "cell_type": "code",
   "execution_count": 22,
   "metadata": {},
   "outputs": [],
   "source": [
    "sData['Words'] = sData.apply(lambda row : (row['PlayerLine'].replace(',','').replace('\\t','').replace('\\'','')).split(\" \"), axis = 1) "
   ]
  },
  {
   "cell_type": "code",
   "execution_count": 23,
   "metadata": {},
   "outputs": [],
   "source": [
    "unflatWords = list(sData['Words'])"
   ]
  },
  {
   "cell_type": "code",
   "execution_count": 24,
   "metadata": {},
   "outputs": [],
   "source": [
    "words = [val for sublist in unflatWords for val in sublist]"
   ]
  },
  {
   "cell_type": "code",
   "execution_count": 25,
   "metadata": {},
   "outputs": [],
   "source": [
    "uniqueWords = (np.unique(np.array(random.choices(words, k=10000))))"
   ]
  },
  {
   "cell_type": "code",
   "execution_count": 26,
   "metadata": {},
   "outputs": [
    {
     "name": "stdout",
     "output_type": "stream",
     "text": [
      "['' '.' '2s.' ... 'zeal' 'zeal:' 'zounds']\n"
     ]
    }
   ],
   "source": [
    "print(uniqueWords)"
   ]
  },
  {
   "cell_type": "code",
   "execution_count": 27,
   "metadata": {},
   "outputs": [],
   "source": [
    "word_numberOfOccurances = [(word, words.count(word)) for word in uniqueWords]"
   ]
  },
  {
   "cell_type": "code",
   "execution_count": 28,
   "metadata": {},
   "outputs": [
    {
     "name": "stdout",
     "output_type": "stream",
     "text": [
      "[('', 25), ('.', 3), ('2s.', 2), ('5s.', 1), ('A', 56), ('ACT', 5), ('ARCHBISHOPS', 1), ('Adam', 2), ('Advantage', 1), ('Against', 6), ('Albeit', 2), ('All', 8), ('Alls', 2), ('An', 16), ('And', 208), ('Anon', 10), ('Another', 3), ('Arm', 2), ('As', 45), ('At', 8), ('Away', 4), ('Ay', 7), ('BARDOLPH', 6), ('BLUNT', 6), ('Barbary', 1), ('Bardolph', 7), ('Bardolph?', 1), ('Bears', 1), ('Because', 3), ('Being', 4), ('Berkley', 1), ('Better', 1), ('Bid', 3), ('Blunt', 6), ('Blunt?', 1), ('Bolingbroke', 1), ('Bolingbroke--', 1), ('Bolingbroke.', 2), ('Bootless', 1), ('Both', 2), ('Bracy', 1), ('Breathless', 2), ('Bridgenorth:', 1), ('Broke', 1), ('Brother', 1), ('But', 66), ('By', 28), ('Call', 2), ('Cambyses', 1), ('Came', 2), ('Canterbury', 1), ('Carrier', 4), ('Charge', 1), ('Charing-cross.', 1), ('Christ:', 1), ('Christendom.', 2), ('Clifton', 1), ('Clifton:', 2), ('Come', 25), ('Company', 1), ('Content.', 1), ('Counterfeit?', 1), ('Cousin', 4), ('Cries', 1), ('Cuts', 1), ('DOUGLAS', 9), ('Dame', 2), ('Danger', 1), ('Defy', 1), ('Deliver', 3), ('Dianas', 1), ('Dick', 1), ('Did', 8), ('Didst', 2), ('Directly', 1), ('Discomfited', 1), ('Do', 14), ('Doth', 4), ('Doubt', 1), ('Douglas', 21), ('Douglas!', 1), ('EARL', 5), ('Earl', 8), ('Eastcheap.', 5), ('Eastcheap:', 1), ('Edmund', 2), ('Embowelld', 1), ('Enfeoffd', 1), ('England', 11), ('English', 7), ('Enter', 50), ('Ere', 3), ('Even', 4), ('Excursions.', 1), ('Exeunt', 27), ('Exit', 27), ('FALSTAFF', 15), ('FRANCIS', 4), ('Faith', 6), ('Falstaff', 16), ('Falstaff.', 1), ('Falstaff:', 3), ('Farewell', 6), ('Farewell.', 1), ('Fie', 2), ('Fife', 1), ('Find', 2), ('Finsbury.', 1), ('For', 41), ('Foretells', 1), ('Francis', 8), ('Francis!', 8), ('Francis.', 2), ('Fresh', 1), ('From', 2), ('GADSHILL', 3), ('GLENDOWER', 3), ('Gadshill', 4), ('Gadshill.', 2), ('Gaunt', 2), ('Gave', 1), ('Gawsey', 1), ('Gilliams', 1), ('Give', 11), ('Glendower', 11), ('Glendower.', 1), ('Glendower?', 2), ('Glittering', 1), ('Go', 13), ('God', 38), ('God-a-mercy!', 1), ('Gods', 7), ('Good', 11), ('Good-Friday', 1), ('Grand-jurors', 1), ('Gregory', 1), ('HENRY', 26), ('HOTSPUR', 10), ('Ha!', 2), ('Had', 4), ('Hal', 24), ('Hal!', 4), ('Hal?', 6), ('Hang', 3), ('Harry', 34), ('Harrys', 3), ('Hath', 5), ('Have', 4), ('He', 49), ('He?', 1), ('Hear', 3), ('Heard', 1), ('Heigh', 1), ('Hence', 1), ('Henry', 3), ('Henrys', 1), ('Here', 9), ('Here.', 1), ('Herefordshire', 1), ('His', 10), ('Holmedon', 4), ('Hostess', 8), ('Hotspur', 8), ('How', 22), ('How!', 3), ('I', 613), ('I.', 10), ('I?', 4), ('II.', 5), ('III', 1), ('III.', 4), ('IV', 3), ('IV.', 3), ('IVs', 1), ('If', 34), ('Ill', 87), ('Ill-spirited', 1), ('In', 36), ('Indeed', 5), ('India.', 1), ('Irish', 3), ('Irish.', 1), ('Is', 11), ('It', 17), ('JOHN', 4), ('Jack', 23), ('Jack.', 4), ('Jack:', 1), ('Jerusalem.', 1), ('Jesu', 5), ('Jew.', 1), ('John', 27), ('John!', 1), ('John.', 4), ('John:', 2), ('John?', 1), ('June', 2), ('KING', 8), ('Kate', 4), ('Kate!', 1), ('Kate.', 2), ('Kate?', 2), ('Kendal', 2), ('Kent', 1), ('King', 5), ('LANCASTER', 7), ('LORD', 4), ('Lamp.', 1), ('Lancaster', 8), ('Lancaster:', 1), ('Lay', 2), ('Let', 10), ('Letters', 1), ('Lie', 1), ('Like', 3), ('London', 4), ('London.', 4), ('Look', 3), ('Lord', 45), ('Lords', 2), ('Loseth', 1), ('MORTIMER', 1), ('Madeira', 1), ('Making', 2), ('Many', 2), ('March', 4), ('Mark', 3), ('Master', 1), ('May', 3), ('Meet', 1), ('Messenger', 3), ('Met', 1), ('Michael', 4), ('Might', 1), ('Mighty', 1), ('Mine', 1), ('Mingled', 1), ('Moor-ditch?', 1), ('More', 3), ('Mortimer', 19), ('Mortimer!', 3), ('Mortimer.', 4), ('Murray', 1), ('Must', 4), ('My', 35), ('Myself', 2), ('NORTHUMBERLAND', 1), ('Nay', 16), ('Ned', 6), ('Ned--to', 1), ('Never', 2), ('Nicholas', 4), ('No', 28), ('Nor', 7), ('Northumberland', 8), ('Not', 10), ('Now', 20), ('O', 54), ('OF', 9), ('Of', 43), ('On', 10), ('Or', 8), ('Ostler', 1), ('Our', 8), ('Owen', 7), ('PERCY', 1), ('PETO', 4), ('PRINCE', 21), ('Pauls.', 1), ('Peace', 6), ('Peas', 1), ('Pegasus', 1), ('Percy', 35), ('Percy:', 3), ('Percys', 5), ('Peto', 6), ('Poins', 8), ('Poins!', 5), ('Poor', 2), ('Prince', 17), ('Prithee', 3), ('Quickly?', 1), ('Quite', 1), ('Ran', 1), ('Ravenspurgh', 2), ('Ravenspurgh.', 1), ('Re-enter', 11), ('Rebuke', 1), ('Redeeming', 1), ('Revolted', 1), ('Richard', 5), ('Rise', 1), ('SCENE', 18), ('SIR', 8), ('Sack', 2), ('Save', 2), ('Say', 4), ('Sblood', 5), ('Sblood!--', 1), ('Score', 1), ('Scot', 9), ('Scotland', 6), ('Scots', 4), ('Scottish', 2), ('Scroop', 2), ('Scroop.', 1), ('Search', 1), ('Seek', 1), ('Send', 4), ('Seven', 1), ('Seven?', 1), ('Severn', 3), ('Severns', 2), ('Shaked', 1), ('Shakes', 1), ('Shall', 18), ('She', 3), ('Sheriff', 2), ('Shirley', 1), ('Should', 2), ('Shrewsbury', 3), ('Shrewsbury.', 5), ('Sir', 37), ('Sirs', 1), ('Sit', 1), ('So', 27), ('Soft!', 1), ('Some', 6), ('Soon', 2), ('Such', 8), ('Sunday-citizens.', 1), ('Suspicion', 1), ('Sutton', 1), ('Swear', 1), ('Swearest', 1), ('Sworn', 1), ('Takes', 1), ('Than', 10), ('That', 44), ('Thats', 2), ('The', 105), ('Their', 2), ('Then', 14), ('There', 10), ('These', 7), ('They', 13), ('This', 27), ('Those', 4), ('Thou', 23), ('Though', 3), ('Three', 3), ('Through', 2), ('Throwing', 1), ('Thursday', 2), ('Thy', 8), ('Titan', 2), ('To', 74), ('To-morrow', 2), ('Took', 1), ('Travellers', 1), ('Trembling', 1), ('Trent', 3), ('Trent.', 1), ('Trimmd', 1), ('True', 1), ('Tuesday', 1), ('Tut', 3), ('Twas', 1), ('Twere', 1), ('Two', 1), ('Uncle', 2), ('Unless', 3), ('Up', 3), ('Upon', 10), ('Useth', 1), ('V', 1), ('VERNON', 7), ('Vernon', 3), ('WALTER', 6), ('WESTMORELAND', 6), ('WORCESTER', 10), ('Wales', 17), ('Wales!', 1), ('Walter', 5), ('Wanton', 1), ('We', 17), ('Weep', 1), ('Welcome', 2), ('Well', 28), ('Welsh', 10), ('Welsh.', 4), ('Westmoreland', 9), ('What', 67), ('What!', 1), ('Whateer', 1), ('Whats', 5), ('When', 15), ('Where', 15), ('Where?', 1), ('Wherein', 3), ('Wheres', 1), ('Which', 23), ('Who', 17), ('Whose', 8), ('Why', 43), ('Will', 7), ('Wilt', 2), ('Windsor', 1), ('With', 20), ('Within', 2), ('Without', 4), ('Worcester', 9), ('Worcester:', 1), ('Yea', 18), ('Yedward', 1), ('Yet', 6), ('York', 7), ('York.', 1), ('You', 32), ('Young', 1), ('Your', 8), ('Zounds', 6), ('Zounds!', 1), ('[Rising', 1), ('[Within]', 7), ('a', 485), ('a-weary', 1), ('about', 7), ('above.', 1), ('abroad:', 1), ('absence', 3), ('abundance', 1), ('account', 4), ('achieved', 1), ('acknowledge', 1), ('acquaintance', 1), ('action.', 2), ('action?', 1), ('admiring', 1), ('adopted', 1), ('advantage', 2), ('adventurous', 1), ('adversaries.', 1), ('advertisement', 2), ('advisedly.', 1), ('afoot', 8), ('afraid?', 1), ('after', 11), ('after?', 1), ('again', 21), ('against', 13), ('age', 6), ('agents', 1), ('ago', 3), ('agues.', 1), ('aid.', 1), ('aimd.', 1), ('air', 2), ('aldermans', 1), ('alive', 8), ('alive?', 1), ('all', 117), ('alone', 5), ('alone.', 1), ('along', 3), ('along:', 1), ('already', 7), ('already.', 2), ('already:', 1), ('already?', 1), ('always', 1), ('am', 69), ('amen!', 1), ('amend', 3), ('amendment', 1), ('amongst', 2), ('an', 68), ('ancestors.', 2), ('and', 655), ('angel', 2), ('angers', 2), ('angle', 1), ('angry', 1), ('anon', 6), ('anon.', 3), ('answer', 9), ('answer.', 1), ('answer?', 1), ('answerable', 1), ('answered?', 1), ('ant', 1), ('antic', 1), ('any', 25), ('any?', 1), ('apparent', 2), ('apparent--But', 1), ('appears', 1), ('appoint', 1), ('archbishop.', 1), ('are', 78), ('arm', 2), ('armd', 1), ('armies', 2), ('arms', 10), ('arms.', 5), ('arms:', 2), ('arrant', 1), ('arras', 2), ('arras:', 1), ('art', 55), ('as', 182), ('ashamed?', 2), ('aside', 5), ('ask', 2), ('assay', 1), ('assignd:', 1), ('at', 77), ('at:', 1), ('attend.', 3), ('audience', 1), ('away', 23), ('away!', 1), ('away:', 1), ('awhile', 5), ('awhile.', 2), ('back', 10), ('back.', 2), ('back:', 2), ('backing!', 1), ('bacon', 1), ('bacon-fed', 1), ('bakers', 1), ('ballads', 1), ('banish', 7), ('banish.', 1), ('banishd', 2), ('bank', 2), ('banks', 2), ('bare', 2), ('bargain', 2), ('barn', 1), ('barren', 3), ('base', 5), ('basely', 1), ('bate?', 1), ('battle', 6), ('battle.', 1), ('bavin', 1), ('be', 186), ('be.', 2), ('be:', 2), ('beans', 1), ('bear', 11), ('bear.', 1), ('beard', 2), ('bearest', 1), ('bearing', 1), ('bears', 5), ('beast!', 1), ('beastliness', 1), ('beat', 2), ('beauty', 2), ('beaver', 1), ('become', 2), ('bed?', 2), ('been', 23), ('been?', 1), ('before', 10), ('before.', 2), ('beg', 4), ('beginning', 1), ('begins', 1), ('behalf', 4), ('behavior', 1), ('behind', 7), ('behold', 3), ('being', 18), ('believed', 2), ('bellies', 1), ('belong:', 1), ('bent', 1), ('beseech', 4), ('beside', 1), ('besides', 3), ('best', 4), ('bestirrd', 1), ('better', 18), ('better:', 1), ('beware', 1), ('beyond', 2), ('bid', 4), ('bids', 3), ('bigger', 1), ('birth', 3), ('bleed', 2), ('bleedst', 1), ('blessed', 4), ('blood', 19), ('bloodily', 1), ('bloody', 7), ('blot', 1), ('blow', 1), ('blue-caps', 1), ('blushed', 2), ('boast', 1), ('body', 3), ('body!', 1), ('bold', 6), ('boldly', 2), ('boots', 1), ('boots.', 1), ('booty', 2), ('bore', 2), ('born', 1), ('born.', 2), ('boroughs', 1), ('borrowd', 1), ('both', 9), ('both!', 1), ('bottle', 4), ('bottom', 3), ('bound', 7), ('bountiful', 1), ('bounty', 1), ('bowels', 1), ('bower', 1), ('boys', 4), ('brach', 1), ('brave', 6), ('bravely', 1), ('braver', 2), ('brawling', 1), ('bread', 1), ('break', 6), ('break.', 1), ('breaker', 1), ('breakfast', 3), ('breaking', 1), ('breaks', 1), ('breath', 4), ('breathe', 6), ('breathed', 1), ('breathless', 1), ('breed', 2), ('bridegroom', 1), ('bridges', 1), ('brief', 1), ('bright', 2), ('bring', 8), ('bristle', 1), ('broken?', 1), ('brother', 14), ('brother-in-law', 1), ('brother:', 1), ('brought', 8), ('brow', 3), ('buckram', 6), ('budding', 1), ('budge', 1), ('buffets', 1), ('bulls.', 1), ('bunch', 1), ('burgomasters', 1), ('burning', 3), ('burnt', 1), ('business', 7), ('but', 114), ('butter', 1), ('butter.', 3), ('butter?', 1), ('buy', 3), ('by', 87), ('caddis-garter', 1), ('call', 26), ('calld', 2), ('called', 4), ('calling?', 1), ('calls', 3), ('came', 12), ('camomile', 1), ('camp', 3), ('camp.', 2), ('camps.', 1), ('can', 30), ('candle', 1), ('candy', 1), ('canker', 1), ('cannot', 16), ('canst', 4), ('canst.', 1), ('canstick', 1), ('cantle', 1), ('canvas', 1), ('capering', 1), ('capon', 1), ('captain:', 1), ('carried', 2), ('carriers.', 1), ('cart', 1), ('cases', 1), ('castle', 2), ('castle.', 2), ('cat', 4), ('catch', 1), ('catching', 1), ('catechism.', 1), ('certain', 7), ('challenged', 1), ('chamberlain!', 1), ('chance', 2), ('charge', 11), ('charged', 2), ('chase', 1), ('cheek', 2), ('cheeks:', 1), ('cheerful', 1), ('cheese', 1), ('cheque', 1), ('cherish', 2), ('cherishd', 2), ('chides', 1), ('children', 2), ('choler?', 1), ('choose', 2), ('chops?', 1), ('chronicles', 1), ('church!', 1), ('churches', 1), ('cities', 1), ('civil', 3), ('claim', 1), ('clerks', 1), ('clinking', 1), ('clip-wingd', 1), ('clippd', 1), ('clock.', 1), ('clocks', 1), ('close', 5), ('close.', 2), ('clothes', 1), ('clouds', 2), ('cloudy', 1), ('cock.', 1), ('cocksure', 1), ('coffers', 1), ('coin', 4), ('coinage.', 1), ('cold', 8), ('colic', 1), ('colted', 1), ('combatants.', 1), ('come', 50), ('comes', 12), ('comest', 1), ('comfort', 1), ('command', 3), ('commodity', 2), ('common', 4), ('commonwealth', 3), ('companies', 1), ('company', 9), ('comparative', 2), ('compass.', 1), ('compulsion', 1), ('compulsion.', 1), ('compulsion?', 1), ('comrades', 1), ('conduct', 2), ('confederacy', 1), ('conference', 1), ('confess', 1), ('confesseth', 1), ('confident', 1), ('confound', 1), ('confusion.', 1), ('confutes', 1), ('conjure', 1), ('consider', 1), ('considerations', 1), ('constant', 1), ('contain', 1), ('contempt', 1), ('content', 4), ('continually', 1), ('contrarious', 1), ('copper!', 1), ('corpulent', 1), ('corrivals', 1), ('corrupt', 1), ('cost', 1), ('could', 24), ('couldst', 3), ('council', 4), ('council-board', 1), ('counsel', 3), ('countenance', 3), ('countenance!', 1), ('countenance.', 1), ('counterfeit', 7), ('counterfeit:', 2), ('counterfeitst', 1), ('counterpoise', 1), ('courage', 2), ('court', 7), ('court:', 1), ('courtesy', 5), ('courtesy.', 2), ('cousin', 23), ('cousin?', 1), ('coward', 8), ('coward!', 2), ('cowardly', 2), ('cowards', 5), ('cowards!', 2), ('coz', 3), ('cozeners!', 1), ('craft?', 1), ('cream.', 1), ('credit.', 1), ('crest', 2), ('crests', 1), ('crop', 1), ('cross', 5), ('crossings.', 1), ('crown', 4), ('crown.', 1), ('crowns', 2), ('cruelty.', 1), ('cry', 5), ('crying', 1), ('cuckoo', 2), ('cudgel', 3), ('cuisses', 1), ('culverin', 1), ('cunning', 2), ('cup', 8), ('currents', 1), ('cursed', 1), ('cushion', 1), ('cut', 5), ('cuts', 2), ('daily', 1), ('damnd', 1), ('damned', 5), ('dangerous', 5), ('dangerous--why', 1), ('dare', 5), ('darest', 3), ('daring', 1), ('darkness.', 2), ('daub', 1), ('daughter', 3), ('day', 20), ('day.', 8), ('days', 8), ('days.', 2), ('dead', 7), ('dead.', 3), ('dead:', 2), ('dead?', 1), ('deal', 4), ('dear', 8), ('dearer', 1), ('dearest', 5), ('death', 12), ('death.', 4), ('deaths', 3), ('debt', 4), ('deceived', 2), ('deceiveth', 1), ('decree', 1), ('decrees', 1), ('deed', 2), ('deeds', 5), ('deep', 6), ('defiance', 2), ('defy', 3), ('deliverd', 1), ('demand', 2), ('demanded', 2), ('denier.', 1), ('deny', 6), ('deputation', 2), ('deputys', 1), ('desperate', 1), ('determination!', 1), ('detraction', 1), ('device', 1), ('devices.', 1), ('devil', 17), ('devil.', 4), ('devised', 1), ('dials', 2), ('diced', 1), ('did', 61), ('did.', 1), ('didst', 4), ('die', 10), ('died', 1), ('diet', 1), ('difference', 2), ('dinner.', 1), ('direct', 1), ('discarded', 2), ('discharge', 1), ('discontents', 2), ('discretion', 1), ('dish', 2), ('dishonour', 1), ('dislike.', 1), ('dissolutely', 1), ('distemperature', 1), ('divide', 3), ('division', 1), ('do', 78), ('do.', 5), ('does', 2), ('dog', 3), ('doing', 1), ('done', 16), ('done.', 1), ('door', 2), ('door:', 3), ('doors:', 1), ('dost', 12), ('doth', 26), ('double', 4), ('doublet', 2), ('doubt', 2), ('doubtful.', 1), ('down', 25), ('down.', 2), ('down:', 1), ('downstairs', 1), ('dozen', 3), ('draff', 1), ('draw', 3), ('drawer?', 1), ('drawn', 8), ('drench', 1), ('dressd', 2), ('dried', 1), ('drink', 10), ('drinking', 2), ('drinks', 2), ('drive', 5), ('drop', 3), ('droppd', 1), ('drove', 1), ('drowned', 1), ('drum!', 1), ('drunk', 4), ('drunkard.', 1), ('dull', 2), ('during', 3), ('dust', 2), ('duteous', 1), ('duty', 1), ('dyeing', 1), ('dying', 1), ('dying:', 1), ('each', 3), ('eagles', 2), ('ear', 5), ('earnest', 1), ('earth', 16), ('ease', 3), ('eating', 1), ('edicts', 1), ('egg', 1), ('eight', 3), ('eight-penny', 1), ('either', 3), ('eldest', 1), ('eleven', 2), ('eleventh', 1), ('elf-skin', 1), ('eloquence', 1), ('else', 5), ('else.', 2), ('else:', 1), ('embrace', 4), ('emptied', 1), ('empty', 1), ('encamped?', 1), ('encounter', 3), ('end', 6), ('endured', 1), ('enemy.', 2), ('enforced', 1), ('engaged', 3), ('engross', 1), ('enlargement', 1), ('enough', 10), ('enough:', 2), ('enter', 1), ('enter:', 1), ('enterprise', 3), ('enterprise:', 1), ('enters', 2), ('entreat', 2), ('envy', 3), ('equals', 1), ('equity', 1), ('ere', 7), ('eruptions', 1), ('even', 15), ('evening', 1), ('ever', 15), ('every', 13), ('exceeding', 1), ('except', 1), ('exchange', 2), ('execute', 2), ('exhalations?', 1), ('exhaled', 1), ('exit', 1), ('experiments.', 1), ('exploit', 2), ('extempore?', 1), ('extraordinary', 2), ('extreme', 1), ('eye', 8), ('eye:', 1), ('eyelids', 2), ('eyes', 11), ('eyes.', 1), ('eyesight?', 1), ('face', 20), ('faction', 1), ('fair', 16), ('fair.', 1), ('fairly', 1), ('faith', 19), ('faith.', 6), ('fall', 3), ('falling', 1), ('falls', 3), ('fantasy', 1), ('far', 7), ('far.', 1), ('far?', 1), ('farewell.', 4), ('fast.', 1), ('fat', 16), ('fat-guts!', 1), ('father', 21), ('father.', 3), ('father:', 1), ('fathers', 6), ('fathom-line', 1), ('fault', 3), ('fault:', 1), ('faults:', 1), ('favours', 2), ('fear', 25), ('feard', 2), ('fearful', 2), ('fearing', 1), ('fears.', 1), ('featherd', 1), ('feel', 1), ('fell', 4), ('fellow', 8), ('fellowship', 2), ('fern-seed', 2), ('fetches', 1), ('fickle', 1), ('fiddlestick:', 1), ('fie!', 1), ('field', 2), ('field.', 3), ('fields', 4), ('fiend', 1), ('fiery', 3), ('fifty', 6), ('fight', 10), ('fight.', 5), ('fights', 1), ('fill', 6), ('filled', 1), ('filthy', 2), ('find', 15), ('fine', 3), ('finger', 2), ('fire', 8), ('fire-eyed', 1), ('first', 6), ('five', 2), ('flame-coloured', 1), ('flatter', 1), ('flattery', 1), ('fleece', 1), ('flesh', 4), ('flies', 1), ('flood', 2), ('flow', 2), ('flower', 1), ('fly', 2), ('flying.', 1), ('fobbed', 1), ('foes', 1), ('follow', 2), ('followd', 2), ('followed', 1), ('following', 1), ('food', 3), ('fool', 5), ('foot', 8), ('foot-land', 1), ('foot.', 2), ('footing', 1), ('for', 170), ('forces', 1), ('foresee', 1), ('forethink', 1), ('forfeited', 2), ('forgetful', 1), ('forgive', 4), ('forgot', 4), ('forgotten', 2), ('form', 1), ('forsworn', 1), ('forth', 10), ('forth.', 1), ('forth?', 1), ('fortune', 8), ('fortunes', 1), ('forty', 2), ('forward', 5), ('foul', 5), ('four', 20), ('fourteen', 4), ('fox', 2), ('frailty.', 1), ('frame', 1), ('franklin', 1), ('fray', 1), ('fresh', 3), ('frets', 1), ('friends', 10), ('friends.', 3), ('frighted', 2), ('from', 68), ('front', 3), ('frontiers', 1), ('frowns', 1), ('full', 15), ('full.', 1), ('furious', 1), ('furnishd', 2), ('further', 7), ('further.', 2), ('gallant', 5), ('gallons', 1), ('gallows', 2), ('garlic', 1), ('garment', 2), ('garters!', 1), ('gave', 8), ('gavest', 1), ('general', 5), ('gentle', 7), ('gentleman', 3), ('gentlemen', 5), ('gentlemen.', 2), ('gently', 1), ('getst', 1), ('gibbets', 1), ('giddy', 1), ('gift', 1), ('gild', 1), ('girdle', 1), ('give', 28), ('given', 9), ('givest', 1), ('giving', 1), ('glittering', 1), ('glutted', 1), ('go', 21), ('goats', 2), ('goes', 2), ('goes!', 1), ('going', 3), ('gold', 3), ('golden', 5), ('gone', 2), ('gone?', 3), ('good', 70), ('gorbellied', 1), ('got', 3), ('governd', 1), ('governed', 3), ('government', 3), ('grace', 15), ('grace--majesty', 1), ('grace?', 2), ('grafted', 1), ('grandfather', 1), ('grandfathers.', 1), ('grapple:', 1), ('grate', 1), ('great', 22), ('greatness', 7), ('grief', 2), ('griefs', 2), ('grieves', 1), ('grievous', 1), ('grievous.', 1), ('griffin', 1), ('grossly.', 1), ('ground', 7), ('ground.', 1), ('ground:', 1), ('grove', 1), ('guest.', 1), ('guests:', 1), ('guilty', 2), ('guns', 2), ('guts', 5), ('gyves', 1), ('ha', 1), ('ha?', 1), ('hacked', 2), ('had', 29), ('hadst', 5), ('hair', 4), ('hair.', 1), ('half', 5), ('half-faced', 1), ('half-moon', 1), ('hall', 1), ('halter.', 1), ('hand', 16), ('hand-saw--ecce', 1), ('hand.', 2), ('hang', 6), ('hanged!', 4), ('hanged.', 3), ('hanged:', 1), ('hanging', 2), ('hangman?', 1), ('happiest', 1), ('happily', 1), ('happy', 2), ('hard', 5), ('harlotry', 2), ('harm', 2), ('harm.', 1), ('has', 3), ('hast', 35), ('haste', 3), ('haste.', 2), ('hath', 47), ('haughtiness', 1), ('haunt', 1), ('have', 148), ('have.', 1), ('having', 2), ('he', 164), ('he:', 1), ('head', 21), ('head?', 2), ('heads', 4), ('heady', 1), ('hear', 35), ('hear?', 1), ('heard', 10), ('heard.', 1), ('hearkend', 1), ('heart', 7), ('heart.', 5), ('heart:', 1), ('heart?', 1), ('hearts', 7), ('heaven', 8), ('heaven!', 1), ('heavenly-harnessd', 1), ('heavy', 5), ('hedge:', 1), ('heels', 4), ('heinously', 1), ('heir-apparent?', 1), ('held', 3), ('hell', 2), ('hell-fire', 1), ('help', 9), ('hem!', 1), ('hence:', 2), ('her', 22), ('her.', 2), ('herds', 1), ('here', 32), ('here:', 2), ('here?', 3), ('hereafter', 1), ('herein.', 1), ('heres', 4), ('hid', 1), ('high', 9), ('highness', 1), ('hill', 5), ('hill!', 1), ('hill:', 1), ('him', 118), ('him!', 3), ('him.', 14), ('him:', 5), ('himself', 9), ('himself.', 3), ('himself?', 1), ('his', 161), ('his:', 1), ('hit', 1), ('hither', 4), ('hitherto', 1), ('hitherwards', 2), ('ho!', 2), ('hold', 12), ('holds', 4), ('holland', 1), ('hollow', 2), ('holp', 1), ('holy', 2), ('home', 7), ('home:', 1), ('home?', 1), ('honesty', 2), ('honour', 17), ('honour:', 1), ('hoofs', 2), ('hook--what', 1), ('hope', 6), ('hope.', 1), ('hopes', 2), ('horrible', 1), ('horribly', 2), ('horse', 23), ('horse.', 5), ('horseback', 3), ('horsemanship.', 1), ('horses', 6), ('hose', 1), ('hostess', 3), ('hot', 13), ('hour', 11), ('hours', 6), ('house', 7), ('house:', 3), ('house?', 1), ('how', 35), ('how.', 1), ('huge', 4), ('hull', 1), ('hum', 1), ('humour', 3), ('humours', 3), ('humours.', 1), ('hundred', 11), ('hung', 1), ('hurt', 1), ('husband', 2), ('i', 7), ('if', 85), ('ignis', 1), ('ignorance', 1), ('impatience', 1), ('import', 1), ('import:', 1), ('impressed', 1), ('in', 336), ('in:', 1), ('inch', 1), ('indeed', 10), ('indent', 2), ('indirect', 1), ('infect', 1), ('infinitely.', 1), ('ingrate', 1), ('injuries', 2), ('innocency', 2), ('inordinate', 1), ('inside', 2), ('instantly.', 1), ('instinct', 3), ('instinct.', 5), ('insurrection', 1), ('intelligence.', 1), ('intemperance:', 1), ('intent', 1), ('interchangeably', 1), ('interest', 2), ('into', 10), ('is', 204), ('is:', 2), ('it', 159), ('it!', 5), ('it.', 12), ('it:', 6), ('it?', 12), ('iteration', 1), ('itself', 4), ('jaws', 1), ('jesters', 1), ('join', 4), ('joined', 1), ('joints', 1), ('jordan', 1), ('judge.', 1), ('justice', 2), ('keen', 1), ('keep', 13), ('keeping', 1), ('kill', 4), ('killed', 3), ('killing', 1), ('kind', 10), ('kine', 1), ('king', 45), ('king.', 10), ('king?', 5), ('kings', 9), ('kinsman', 1), ('kinsman:', 1), ('kisses', 1), ('knave', 3), ('knaves', 3), ('knew', 5), ('knight', 3), ('knighthood', 1), ('knights', 2), ('know', 37), ('knowest', 5), ('knowing', 1), ('known', 4), ('labour', 4), ('labouring', 1), ('lack', 1), ('lack-brain', 1), ('lad', 5), ('lad.', 2), ('lad?', 1), ('ladies', 2), ('lads', 5), ('lady', 13), ('lady?', 1), ('ladys', 3), ('lag-end', 1), ('laid', 1), ('land', 10), ('lane', 1), ('language', 2), ('lantern', 4), ('lap', 1), ('last', 4), ('last.', 1), ('late-disturbed', 1), ('lately', 4), ('lath', 1), ('latter', 3), ('lavish', 1), ('lay', 11), ('layest', 1), ('lead', 8), ('leader', 1), ('leagues', 1), ('learning', 1), ('least', 5), ('leave', 18), ('leave.', 1), ('led', 1), ('left', 3), ('leg?', 2), ('leisure', 1), ('lend', 7), ('less', 4), ('let', 45), ('lets', 2), ('letter', 2), ('letters', 7), ('lewdly', 1), ('lie', 9), ('lie.', 3), ('liege', 4), ('liege.', 1), ('lies', 10), ('lieutenant', 1), ('lieutenants', 1), ('life', 23), ('life-blood', 1), ('life.', 3), ('life:', 3), ('light', 5), ('like', 58), ('likeness', 2), ('limbs', 1), ('lime', 2), ('line', 3), ('lion', 6), ('lion:', 1), ('lions', 3), ('little', 13), ('live', 11), ('lived', 2), ('living', 3), ('living?', 1), ('loach.', 1), ('locks', 1), ('lofty', 1), ('loggerheads', 1), ('long', 10), ('long-staff', 1), ('longer', 3), ('look', 10), ('looked', 1), ('looking', 1), ('looks', 9), ('looks.', 1), ('loop', 1), ('loose', 2), ('lord', 55), ('lord!', 2), ('lord.', 16), ('lord?', 4), ('lords', 3), ('lost', 10), ('love', 23), ('love.', 4), ('loved.', 1), ('lovely', 2), ('lovers', 1), ('loves', 4), ('low', 4), ('loyal', 1), ('luckily', 1), ('luggage', 1), ('lustier', 1), ('lying', 2), ('mad', 8), ('mad-headed', 1), ('mad.', 3), ('mad?', 2), ('madcap', 2), ('made', 15), ('maiden', 1), ('maidenhead', 1), ('maim', 1), ('mainly', 1), ('majesty.', 2), ('major:', 1), ('make', 39), ('makest', 3), ('mammets', 1), ('man', 49), ('man.', 5), ('man:', 5), ('manage', 2), ('manhood', 3), ('manifold', 1), ('manner', 3), ('manners', 2), ('mans', 1), ('many', 19), ('map:', 1), ('march?', 1), ('marching', 3), ('markd', 3), ('marks.', 1), ('married.', 1), ('marry', 2), ('marvel', 2), ('mask', 1), ('mass', 2), ('masterd', 1), ('masters', 4), ('masters:', 1), ('match', 1), ('match.', 1), ('matchd', 2), ('matter', 4), ('matter!', 1), ('may', 33), ('me', 192), ('me!', 5), ('me.', 16), ('me:', 2), ('me?', 10), ('mean', 5), ('means', 6), ('meet', 17), ('meeting', 2), ('melted', 1), ('men', 27), ('men.', 5), ('mend', 2), ('mens', 4), ('mercy:', 1), ('mere', 2), ('merrily', 3), ('merry', 2), ('met', 6), ('methinks', 2), ('mettle', 4), ('mew', 1), ('midnight.', 1), ('midriff.', 1), ('might', 5), ('milliner', 1), ('million:', 2), ('mincing', 1), ('mine', 13), ('mines', 1), ('minion', 1), ('minutes', 1), ('misbegotten', 1), ('mischance', 2), ('misprison', 1), ('miss', 1), ('misused', 1), ('modestly', 1), ('moe', 1), ('money', 8), ('monstrous', 3), ('monstrous!', 2), ('month', 4), ('mood', 1), ('moon.', 1), ('more', 51), ('more:', 4), ('more?', 1), ('mori:', 1), ('morning', 4), ('morning.', 3), ('moss-grown', 1), ('most', 13), ('mothers', 3), ('motion', 1), ('motion.', 1), ('moulded', 1), ('mouldwarp', 1), ('moulten', 2), ('mountain', 1), ('mountains', 3), ('mouths', 1), ('move', 2), ('moved.', 1), ('much', 25), ('much.', 3), ('multitudes', 1), ('murdered', 1), ('murderous', 1), ('musing', 1), ('must', 27), ('my', 298), ('myself', 12), ('myself.', 2), ('myself?', 1), ('naked', 1), ('name', 21), ('name.', 3), ('name?', 1), ('names', 3), ('narrow', 1), ('nay', 4), ('near', 9), ('nearer', 1), ('neat', 2), ('neats', 1), ('need', 8), ('needest', 1), ('needful', 1), ('neer', 6), ('neglectingly', 1), ('neither', 3), ('nephew', 4), ('nest', 1), ('nether', 2), ('never', 38), ('new', 7), ('news', 8), ('news.', 1), ('news:', 2), ('news?', 2), ('next', 9), ('nice', 1), ('night', 15), ('night-tripping', 1), ('night:', 1), ('nimble-footed', 1), ('nine', 2), ('no', 76), ('no.', 6), ('nobility.', 2), ('noble', 18), ('nobleman', 4), ('nobody', 1), ('none', 7), ('none?', 1), ('nor', 11), ('north', 6), ('northward', 1), ('nose', 3), ('noses', 2), ('not', 239), ('not.', 3), ('not?', 6), ('noted', 2), ('nothing', 8), ('nothing.', 1), ('now', 49), ('now.', 9), ('now:', 1), ('now?', 3), ('o', 3), ('oath', 6), ('oaths', 2), ('obtaining', 2), ('oclock', 4), ('oclock?', 1), ('of', 577), ('of.', 6), ('off', 9), ('off:', 1), ('offence', 3), ('offend', 2), ('offer', 5), ('offerd', 1), ('offering', 1), ('office', 1), ('oft', 6), ('oft.', 1), ('often', 3), ('oftentimes', 2), ('oil', 1), ('oily', 1), ('old', 27), ('on', 98), ('on!', 1), ('on.', 5), ('on?', 1), ('once', 9), ('one', 29), ('one-half', 1), ('one?', 1), ('only', 7), ('opinion', 4), ('opposed', 4), ('opposition', 1), ('or', 57), ('orb', 1), ('ostler!', 3), ('other', 13), ('our', 92), ('ours', 4), ('ours.', 2), ('ourselves', 3), ('out', 37), ('out.', 2), ('over', 5), ('owe', 4), ('owes', 1), ('owest', 2), ('own', 20), ('ox', 1), ('packed.', 1), ('packing.', 1), ('paid', 7), ('pair', 2), ('pale-faced', 1), ('palisadoes', 1), ('palpable.', 1), ('papers', 2), ('parapets', 1), ('parcel', 3), ('pardon', 6), ('parley', 2), ('parmaceti', 1), ('part', 19), ('participation:', 1), ('parties', 1), ('parts', 1), ('party', 1), ('patiently', 1), ('pause', 2), ('pay', 8), ('pay.', 3), ('payment', 1), ('peace', 7), ('peevish', 1), ('penny-worth', 1), ('pennyworth', 2), ('people', 2), ('pepper-gingerbread', 1), ('peppercorn', 1), ('peppered', 1), ('peppered:', 1), ('perceive', 1), ('perfect', 3), ('perilous', 2), ('person', 4), ('pewter.', 1), ('pick', 3), ('picked', 2), ('picking', 2), ('piece', 4), ('pinch', 1), ('pins', 1), ('pismires', 1), ('pistol', 2), ('pizzle', 1), ('place', 7), ('place?--', 1), ('plague', 17), ('play', 11), ('play:', 1), ('playing', 2), ('pleasure', 4), ('plot', 8), ('pluck', 4), ('plumed', 1), ('pocket', 6), ('pocket!', 1), ('pockets.', 2), ('point', 5), ('point.', 2), ('pointed', 1), ('policy', 1), ('poor', 13), ('poor?', 1), ('portly.', 1), ('possessd', 2), ('possession', 1), ('possible', 1), ('pouncet-box', 1), ('pound', 4), ('pound.', 2), ('pounds.', 1), ('power', 12), ('praise', 8), ('praises', 1), ('pray', 9), ('precedent.', 1), ('precious', 1), ('preparation.', 1), ('prepare', 1), ('prepared.', 1), ('presence', 5), ('present', 5), ('presently', 2), ('press', 2), ('pressed', 2), ('prick', 1), ('pride', 2), ('pride?', 1), ('prince', 11), ('prince.', 3), ('prison.', 1), ('prisoner.', 1), ('prisoners', 11), ('prisoners--', 1), ('prithee', 16), ('private', 1), ('prize?', 1), ('proceedings', 1), ('proclamation:', 1), ('procure', 1), ('prodigals', 1), ('profaned', 1), ('profession', 1), ('proof', 2), ('proof.', 1), ('prophecies', 2), ('prophesy', 1), ('protest', 2), ('proud', 5), ('proud.', 1), ('prove', 5), ('proverbs:', 1), ('prune', 2), ('psalms', 1), ('pudding', 1), ('punish', 2), ('purpose', 5), ('purposes.', 2), ('purse', 2), ('purse-taking.', 1), ('purses', 3), ('purses:', 1), ('purses?', 1), ('put', 4), ('quailing', 1), ('quality', 2), ('quarrel', 2), ('queen', 3), ('question', 7), ('quick-raised', 1), ('quickly', 2), ('quilt!', 1), ('quite', 4), ('quoth', 3), ('rabbit-sucker', 1), ('racks', 1), ('radish:', 1), ('rage', 3), ('raising', 1), ('rakers', 1), ('ramping', 1), ('ran', 3), ('range', 1), ('ransom', 7), ('ransomless', 1), ('rare', 2), ('rareness', 1), ('rascal', 8), ('rascal!', 1), ('rascals.', 1), ('rather', 9), ('rather?', 1), ('raven', 1), ('read', 8), ('reading', 1), ('realm', 2), ('reason', 8), ('reason:', 2), ('reasons', 3), ('rebel', 4), ('rebellion', 2), ('rebels', 5), ('receipt', 1), ('receive', 1), ('reckoning', 3), ('reckoning!', 1), ('recreation', 1), ('red-breast', 1), ('redeem', 4), ('reeds', 1), ('regard', 1), ('regarded', 2), ('regards', 1), ('remember', 3), ('rememberd', 1), ('remnant', 1), ('report', 3), ('repute', 1), ('resolution', 1), ('rest', 9), ('rest.', 1), ('restore', 1), ('retirement', 2), ('retires', 1), ('retold', 2), ('retreat', 2), ('revengement', 1), ('reverend', 2), ('reversion:', 1), ('revolt.', 1), ('reward', 3), ('rewards', 1), ('ribs', 2), ('rich', 5), ('ride', 4), ('rides', 2), ('right', 4), ('rites', 1), ('rob', 9), ('rob?', 1), ('robbery', 2), ('robes', 2), ('rogue', 9), ('rogue.', 2), ('roguery', 1), ('rogues', 5), ('rooms', 1), ('rose', 3), ('roundly.', 1), ('rub', 1), ('rude', 2), ('run', 7), ('running', 2), ('running!', 1), ('runs', 4), ('rustling', 1), ('rusty', 1), ('sack', 17), ('sack:', 2), ('sacrifices', 1), ('safety', 4), ('said', 16), ('sallies', 1), ('salutations', 1), ('salvation', 1), ('same', 12), ('sandy-bottomd', 1), ('sarcenet', 1), ('save', 6), ('saved', 4), ('saw', 7), ('say', 30), ('say--', 1), ('sayest', 9), ('says', 8), ('sayst', 2), ('scape', 3), ('scapes', 1), ('scarce', 1), ('scarlet', 1), ('scatterd', 1), ('sceptre', 3), ('scot', 1), ('scourge', 3), ('scourged', 1), ('scutcheon:', 1), ('sea', 4), ('sealed', 2), ('search', 1), ('season', 1), ('seat', 3), ('secretly', 1), ('see', 29), ('see:', 1), ('seemd', 1), ('seeming', 4), ('seems', 2), ('seen', 7), ('sees', 3), ('seldom', 3), ('send', 7), ('sent', 6), ('servant:', 1), ('servants', 1), ('services', 2), ('set', 29), ('seven', 8), ('shake', 2), ('shall', 114), ('shalt', 9), ('shalt.', 1), ('shame', 10), ('shames', 2), ('shapes', 2), ('share', 3), ('sharing', 2), ('she', 10), ('sheriff', 5), ('shes', 1), ('shillings', 2), ('shines', 2), ('shirt', 3), ('shore', 3), ('short', 4), ('short!', 1), ('shorter', 1), ('shortness', 1), ('shotten', 1), ('should', 32), ('shoulders', 2), ('shouts', 1), ('show', 9), ('showed', 2), ('shown', 1), ('shrill', 1), ('sick.', 1), ('sickness', 4), ('sickness--', 1), ('side', 6), ('sin', 5), ('since', 12), ('sincerity', 1), ('sinew', 1), ('sing.', 2), ('single', 3), ('sings.', 1), ('sir', 6), ('sirrah', 5), ('sirs:', 1), ('sit', 5), ('sitst', 1), ('six', 3), ('sixpenny', 1), ('skill', 2), ('skin', 1), ('slain', 3), ('slanderd', 1), ('slaves', 2), ('sleep', 5), ('sleep?', 1), ('sleeves', 1), ('slip.', 1), ('slow', 1), ('small', 2), ('smallest', 1), ('smell', 2), ('smiling', 1), ('smooth', 2), ('smooth-tongue', 1), ('sneak-cup:', 1), ('sneaking', 1), ('snuff', 1), ('so', 114), ('so.', 8), ('so:', 6), ('so?', 2), ('soft', 3), ('soft!', 1), ('soil', 2), ('soldier', 3), ('soldiers', 10), ('solus', 2), ('some', 29), ('son', 18), ('son.', 4), ('song', 4), ('sons', 3), ('soon', 3), ('sooner', 5), ('sooth', 2), ('sooth!', 1), ('sort', 1), ('sought', 2), ('soul', 12), ('sound.', 3), ('sounded', 2), ('sounds', 3), ('south', 2), ('sparrow', 2), ('sparrow.', 1), ('speak', 24), ('speak:', 1), ('speaking', 1), ('speaks', 6), ('speech.', 1), ('speed', 5), ('speed.', 1), ('speed:', 2), ('spend', 3), ('sphere', 1), ('spirit.', 1), ('spleen', 2), ('spoke', 1), ('spoken', 4), ('sport', 3), ('spring!', 1), ('stain', 4), ('stall', 1), ('stand', 13), ('stand:', 1), ('standest', 2), ('stands', 4), ('stark', 1), ('starling', 1), ('stars', 2), ('start', 4), ('starting-hole', 1), ('starveling', 1), ('state', 8), ('stays', 1), ('steal', 6), ('steed', 1), ('steppd', 1), ('still', 13), ('still.', 3), ('stinking', 1), ('stir', 4), ('stolen', 2), ('stood', 2), ('stop', 2), ('store', 1), ('straightest', 1), ('strangest', 2), ('strappado', 1), ('streets', 2), ('strength', 2), ('strike', 2), ('striving', 1), ('strong', 6), ('stuck', 1), ('studies', 2), ('stuffed', 1), ('stung', 2), ('subjects', 1), ('subtle', 1), ('succor', 1), ('such', 56), ('suddenly', 2), ('sugar', 4), ('suits', 1), ('sully:', 1), ('summer-house', 1), ('sun', 7), ('sun-like', 1), ('sung', 1), ('supper', 4), ('supper:', 1), ('supplied', 1), ('sure', 8), ('surety', 2), ('surgery', 1), ('suspect', 1), ('swallowing', 1), ('swathling', 1), ('sway', 2), ('swayd', 1), ('swear', 8), ('sweet', 23), ('sweeten', 1), ('swelling', 1), ('swim:', 1), ('swine-keeping', 1), ('swollen', 1), ('sword', 10), ('sword-and-buckler', 1), ('sword.', 4), ('sword:', 1), ('swore', 4), ('sworn', 6), ('sympathize', 1), ('tacked', 1), ('taen', 4), ('tailors-yard', 1), ('take', 21), ('taken', 5), ('takes', 5), ('tale', 6), ('tales', 2), ('talkd', 2), ('tall', 1), ('tallow-catch--', 1), ('tallow.', 1), ('tame', 2), ('target', 1), ('tarry', 3), ('tattered', 1), ('tavern', 3), ('tavern-reckonings', 1), ('teaching', 3), ('tedious', 3), ('teeming', 1), ('tell', 44), ('tell?', 1), ('telling', 3), ('temper', 2), ('temperate', 1), ('tempted', 1), ('ten', 4), ('ten.', 1), ('tenants', 1), ('tench!', 1), ('tenderness.', 2), ('tents', 1), ('term', 1), ('terms', 6), ('than', 40), ('thank', 6), ('that', 206), ('that?', 1), ('thats', 10), ('the', 759), ('thee', 86), ('thee!', 4), ('thee.', 6), ('thee:', 5), ('thee?', 2), ('theft', 1), ('their', 40), ('them', 59), ('them.', 8), ('them:', 6), ('them?', 2), ('theme', 1), ('then', 51), ('then?', 5), ('there', 46), ('there.', 2), ('therefore', 6), ('therein', 1), ('theres', 10), ('therewith', 1), ('these', 27), ('they', 68), ('thief', 4), ('thief.', 2), ('thieves', 8), ('thigh:', 1), ('thine', 9), ('thine.', 1), ('thing', 7), ('thing!', 1), ('things', 4), ('think', 32), ('thirty', 4), ('this', 151), ('this!', 4), ('this--', 1), ('this.', 4), ('this?', 2), ('those', 15), ('thou', 228), ('thou!', 1), ('thou?', 2), ('though', 4), ('thought', 5), ('thoughts.', 1), ('thousand', 15), ('threatens', 1), ('three', 16), ('threefold', 1), ('threescore', 1), ('thrive', 2), ('throats:', 1), ('throne.', 2), ('through', 9), ('throw', 1), ('thumb-ring:', 1), ('thus', 11), ('thus.', 1), ('thy', 102), ('thyself', 4), ('thyself.', 1), ('tickle', 2), ('tickle-brain.', 1), ('tide', 1), ('tidings', 2), ('tied', 1), ('till', 5), ('time', 38), ('time--what', 1), ('time.', 2), ('time?', 1), ('times', 8), ('times?', 1), ('tis', 22), ('title', 5), ('to', 377), ('to-day', 6), ('to-morrow', 8), ('to-night', 3), ('toasts-and-butter', 1), ('together', 3), ('together.', 1), ('told', 7), ('tongue', 10), ('tongue:', 1), ('too', 32), ('too.', 9), ('too:', 3), ('took', 6), ('tookt', 1), ('tooth.', 1), ('top', 1), ('toss', 1), ('touch', 4), ('towers.', 1), ('trace', 1), ('trade-fallen', 1), ('trading', 1), ('train', 2), ('traitor', 2), ('traitors', 1), ('tranquillity', 1), ('transformation', 1), ('travel', 1), ('tread', 3), ('treason?', 1), ('trembling', 1), ('trenching', 1), ('trick', 5), ('trim', 2), ('triumph', 2), ('trodden', 2), ('trouble', 1), ('truant', 3), ('true', 28), ('truly', 6), ('trumpet', 4), ('trumpets', 2), ('trust', 5), ('trust?', 1), ('truth', 10), ('truth:', 1), ('truth?', 1), ('turn', 7), ('turnd', 3), ('turned', 4), ('tush', 1), ('twelve', 3), ('twenty', 6), ('twere', 3), ('twice', 1), ('twixt', 2), ('two', 30), ('unbound', 1), ('uncle', 10), ('uncolted.', 1), ('under', 5), ('undertake', 2), ('undone.', 1), ('uneven', 2), ('ungrown', 1), ('unhandsome', 1), ('unhappy', 1), ('unjust', 3), ('unless', 2), ('unlooked', 1), ('unmannerly', 1), ('unminded', 1), ('unprofitable', 1), ('unrevenged:', 1), ('unruly', 1), ('unsorted', 1), ('unthankful', 1), ('unto', 5), ('unto?', 1), ('unwelcome', 1), ('up', 36), ('up:', 1), ('up]', 1), ('upon', 53), ('upstairs', 1), ('urged', 3), ('us', 55), ('us!', 2), ('us.', 5), ('us:', 2), ('use', 5), ('used', 4), ('utmost', 1), ('utter', 3), ('utterly', 1), ('vain', 1), ('valiant', 9), ('valour', 4), ('vanity!', 2), ('vanity.', 1), ('varlet', 2), ('vaulted', 1), ('vaunting', 1), ('vein.', 1), ('very', 17), ('vexd', 1), ('vigilant', 1), ('vile', 5), ('vilely', 2), ('villain', 4), ('villain.', 1), ('villains', 4), ('villanous', 9), ('virtue', 6), ('virtuous', 2), ('visit', 1), ('visited:', 1), ('vizards', 2), ('vouchsafe', 1), ('vow', 2), ('vulgar', 1), ('wag', 3), ('wag!', 2), ('wage', 1), ('wain', 1), ('wake', 1), ('walk', 4), ('walked', 1), ('walkst', 1), ('wan', 1), ('want', 5), ('wantonness.', 1), ('war', 6), ('war?', 1), ('wardrobe.', 1), ('warlike', 1), ('warm', 1), ('warrant', 3), ('warrior.', 1), ('was', 62), ('washd', 1), ('wastt', 1), ('watch', 3), ('watchd', 1), ('water-colours', 1), ('way', 13), ('way?', 1), ('waylaid:', 1), ('ways', 2), ('we', 84), ('we.', 1), ('weak', 2), ('wear', 5), ('wears', 1), ('weasel', 1), ('weaver', 1), ('weight', 1), ('welcome', 6), ('well', 49), ('well-beseeming', 1), ('well-respected', 1), ('well.', 4), ('well:', 2), ('well?', 1), ('were', 49), ('wert', 7), ('what', 66), ('whats', 3), ('when', 47), ('whence', 3), ('where', 16), ('where.', 1), ('wherein', 8), ('whereof', 2), ('which', 26), ('while', 5), ('whistle', 1), ('whistling', 1), ('white', 3), ('white-bearded', 1), ('who', 12), ('whole', 5), ('whom', 6), ('whose', 9), ('why', 12), ('wicked!', 1), ('wide', 2), ('wife', 4), ('wifes', 1), ('wild', 5), ('wild-duck.', 2), ('wildfire', 1), ('will', 125), ('will.', 5), ('willingly:', 1), ('wilt', 8), ('wilt.', 2), ('win', 3), ('wind', 7), ('wind?', 1), ('winds', 1), ('wing', 2), ('winged', 1), ('wiped', 1), ('wisdom', 3), ('wise', 2), ('wisely', 2), ('wish', 1), ('wishd', 1), ('wisheth', 1), ('with', 183), ('withal', 4), ('withdraw', 2), ('within', 4), ('without', 7), ('witness', 1), ('wives', 4), ('woes', 1), ('woman', 4), ('womanhood', 3), ('womans', 3), ('womb', 2), ('won.', 1), ('wonder', 2), ('wonderd', 3), ('wondrous', 1), ('wool-sack!', 1), ('word', 15), ('words', 2), ('words!', 1), ('world', 19), ('world!', 1), ('world.', 2), ('worms', 1), ('worst', 3), ('worth', 6), ('worthy', 3), ('would', 57), ('wouldst', 3), ('wound', 3), ('wounds', 5), ('wretched', 1), ('writes', 2), ('written', 1), ('wrong', 3), ('wrongs', 2), ('wrung', 1), ('ye', 26), ('ye.', 1), ('yea', 2), ('year', 2), ('year!', 1), ('years', 7), ('years?', 1), ('yeomans', 1), ('yesternight:', 2), ('yet', 38), ('you', 263), ('you!', 2), ('you--', 1), ('you--God', 1), ('you.', 15), ('you:', 2), ('you?', 5), ('younger', 4), ('your', 121), ('yours', 2), ('yourself', 6), ('yourselves', 1), ('youth', 7), ('youthful', 1), ('zeal', 1), ('zeal:', 1), ('zounds', 2)]\n"
     ]
    }
   ],
   "source": [
    "print(word_numberOfOccurances)"
   ]
  },
  {
   "cell_type": "raw",
   "metadata": {},
   "source": []
  },
  {
   "cell_type": "code",
   "execution_count": 29,
   "metadata": {},
   "outputs": [],
   "source": [
    "word_numberOfOccurances.sort(key=(lambda x:x[1]))"
   ]
  },
  {
   "cell_type": "code",
   "execution_count": 30,
   "metadata": {},
   "outputs": [
    {
     "name": "stdout",
     "output_type": "stream",
     "text": [
      "[('5s.', 1), ('ARCHBISHOPS', 1), ('Advantage', 1), ('Barbary', 1), ('Bardolph?', 1), ('Bears', 1), ('Berkley', 1), ('Better', 1), ('Blunt?', 1), ('Bolingbroke', 1), ('Bolingbroke--', 1), ('Bootless', 1), ('Bracy', 1), ('Bridgenorth:', 1), ('Broke', 1), ('Brother', 1), ('Cambyses', 1), ('Canterbury', 1), ('Charge', 1), ('Charing-cross.', 1), ('Christ:', 1), ('Clifton', 1), ('Company', 1), ('Content.', 1), ('Counterfeit?', 1), ('Cries', 1), ('Cuts', 1), ('Danger', 1), ('Defy', 1), ('Dianas', 1), ('Dick', 1), ('Directly', 1), ('Discomfited', 1), ('Doubt', 1), ('Douglas!', 1), ('Eastcheap:', 1), ('Embowelld', 1), ('Enfeoffd', 1), ('Excursions.', 1), ('Falstaff.', 1), ('Farewell.', 1), ('Fife', 1), ('Finsbury.', 1), ('Foretells', 1), ('Fresh', 1), ('Gave', 1), ('Gawsey', 1), ('Gilliams', 1), ('Glendower.', 1), ('Glittering', 1), ('God-a-mercy!', 1), ('Good-Friday', 1), ('Grand-jurors', 1), ('Gregory', 1), ('He?', 1), ('Heard', 1), ('Heigh', 1), ('Hence', 1), ('Henrys', 1), ('Here.', 1), ('Herefordshire', 1), ('III', 1), ('IVs', 1), ('Ill-spirited', 1), ('India.', 1), ('Irish.', 1), ('Jack:', 1), ('Jerusalem.', 1), ('Jew.', 1), ('John!', 1), ('John?', 1), ('Kate!', 1), ('Kent', 1), ('Lamp.', 1), ('Lancaster:', 1), ('Letters', 1), ('Lie', 1), ('Loseth', 1), ('MORTIMER', 1), ('Madeira', 1), ('Master', 1), ('Meet', 1), ('Met', 1), ('Might', 1), ('Mighty', 1), ('Mine', 1), ('Mingled', 1), ('Moor-ditch?', 1), ('Murray', 1), ('NORTHUMBERLAND', 1), ('Ned--to', 1), ('Ostler', 1), ('PERCY', 1), ('Pauls.', 1), ('Peas', 1), ('Pegasus', 1), ('Quickly?', 1), ('Quite', 1), ('Ran', 1), ('Ravenspurgh.', 1), ('Rebuke', 1), ('Redeeming', 1), ('Revolted', 1), ('Rise', 1), ('Sblood!--', 1), ('Score', 1), ('Scroop.', 1), ('Search', 1), ('Seek', 1), ('Seven', 1), ('Seven?', 1), ('Shaked', 1), ('Shakes', 1), ('Shirley', 1), ('Sirs', 1), ('Sit', 1), ('Soft!', 1), ('Sunday-citizens.', 1), ('Suspicion', 1), ('Sutton', 1), ('Swear', 1), ('Swearest', 1), ('Sworn', 1), ('Takes', 1), ('Throwing', 1), ('Took', 1), ('Travellers', 1), ('Trembling', 1), ('Trent.', 1), ('Trimmd', 1), ('True', 1), ('Tuesday', 1), ('Twas', 1), ('Twere', 1), ('Two', 1), ('Useth', 1), ('V', 1), ('Wales!', 1), ('Wanton', 1), ('Weep', 1), ('What!', 1), ('Whateer', 1), ('Where?', 1), ('Wheres', 1), ('Windsor', 1), ('Worcester:', 1), ('Yedward', 1), ('York.', 1), ('Young', 1), ('Zounds!', 1), ('[Rising', 1), ('a-weary', 1), ('above.', 1), ('abroad:', 1), ('abundance', 1), ('achieved', 1), ('acknowledge', 1), ('acquaintance', 1), ('action?', 1), ('admiring', 1), ('adopted', 1), ('adventurous', 1), ('adversaries.', 1), ('advisedly.', 1), ('afraid?', 1), ('after?', 1), ('agents', 1), ('agues.', 1), ('aid.', 1), ('aimd.', 1), ('aldermans', 1), ('alive?', 1), ('alone.', 1), ('along:', 1), ('already:', 1), ('already?', 1), ('always', 1), ('amen!', 1), ('amendment', 1), ('angle', 1), ('angry', 1), ('answer.', 1), ('answer?', 1), ('answerable', 1), ('answered?', 1), ('ant', 1), ('antic', 1), ('any?', 1), ('apparent--But', 1), ('appears', 1), ('appoint', 1), ('archbishop.', 1), ('armd', 1), ('arrant', 1), ('arras:', 1), ('assay', 1), ('assignd:', 1), ('at:', 1), ('audience', 1), ('away!', 1), ('away:', 1), ('backing!', 1), ('bacon', 1), ('bacon-fed', 1), ('bakers', 1), ('ballads', 1), ('banish.', 1), ('barn', 1), ('basely', 1), ('bate?', 1), ('battle.', 1), ('bavin', 1), ('beans', 1), ('bear.', 1), ('bearest', 1), ('bearing', 1), ('beast!', 1), ('beastliness', 1), ('beaver', 1), ('been?', 1), ('beginning', 1), ('begins', 1), ('behavior', 1), ('bellies', 1), ('belong:', 1), ('bent', 1), ('beside', 1), ('bestirrd', 1), ('better:', 1), ('beware', 1), ('bigger', 1), ('bleedst', 1), ('bloodily', 1), ('blot', 1), ('blow', 1), ('blue-caps', 1), ('boast', 1), ('body!', 1), ('boots', 1), ('boots.', 1), ('born', 1), ('boroughs', 1), ('borrowd', 1), ('both!', 1), ('bountiful', 1), ('bounty', 1), ('bowels', 1), ('bower', 1), ('brach', 1), ('bravely', 1), ('brawling', 1), ('bread', 1), ('break.', 1), ('breaker', 1), ('breaking', 1), ('breaks', 1), ('breathed', 1), ('breathless', 1), ('bridegroom', 1), ('bridges', 1), ('brief', 1), ('bristle', 1), ('broken?', 1), ('brother-in-law', 1), ('brother:', 1), ('budding', 1), ('budge', 1), ('buffets', 1), ('bulls.', 1), ('bunch', 1), ('burgomasters', 1), ('burnt', 1), ('butter', 1), ('butter?', 1), ('caddis-garter', 1), ('calling?', 1), ('camomile', 1), ('camps.', 1), ('candle', 1), ('candy', 1), ('canker', 1), ('canst.', 1), ('canstick', 1), ('cantle', 1), ('canvas', 1), ('capering', 1), ('capon', 1), ('captain:', 1), ('carriers.', 1), ('cart', 1), ('cases', 1), ('catch', 1), ('catching', 1), ('catechism.', 1), ('challenged', 1), ('chamberlain!', 1), ('chase', 1), ('cheeks:', 1), ('cheerful', 1), ('cheese', 1), ('cheque', 1), ('chides', 1), ('choler?', 1), ('chops?', 1), ('chronicles', 1), ('church!', 1), ('churches', 1), ('cities', 1), ('claim', 1), ('clerks', 1), ('clinking', 1), ('clip-wingd', 1), ('clippd', 1), ('clock.', 1), ('clocks', 1), ('clothes', 1), ('cloudy', 1), ('cock.', 1), ('cocksure', 1), ('coffers', 1), ('coinage.', 1), ('colic', 1), ('colted', 1), ('combatants.', 1), ('comest', 1), ('comfort', 1), ('companies', 1), ('compass.', 1), ('compulsion', 1), ('compulsion.', 1), ('compulsion?', 1), ('comrades', 1), ('confederacy', 1), ('conference', 1), ('confess', 1), ('confesseth', 1), ('confident', 1), ('confound', 1), ('confusion.', 1), ('confutes', 1), ('conjure', 1), ('consider', 1), ('considerations', 1), ('constant', 1), ('contain', 1), ('contempt', 1), ('continually', 1), ('contrarious', 1), ('copper!', 1), ('corpulent', 1), ('corrivals', 1), ('corrupt', 1), ('cost', 1), ('council-board', 1), ('countenance!', 1), ('countenance.', 1), ('counterfeitst', 1), ('counterpoise', 1), ('court:', 1), ('cousin?', 1), ('cozeners!', 1), ('craft?', 1), ('cream.', 1), ('credit.', 1), ('crests', 1), ('crop', 1), ('crossings.', 1), ('crown.', 1), ('cruelty.', 1), ('crying', 1), ('cuisses', 1), ('culverin', 1), ('currents', 1), ('cursed', 1), ('cushion', 1), ('daily', 1), ('damnd', 1), ('dangerous--why', 1), ('daring', 1), ('daub', 1), ('dead?', 1), ('dearer', 1), ('deceiveth', 1), ('decree', 1), ('decrees', 1), ('deliverd', 1), ('denier.', 1), ('deputys', 1), ('desperate', 1), ('determination!', 1), ('detraction', 1), ('device', 1), ('devices.', 1), ('devised', 1), ('diced', 1), ('did.', 1), ('died', 1), ('diet', 1), ('dinner.', 1), ('direct', 1), ('discharge', 1), ('discretion', 1), ('dishonour', 1), ('dislike.', 1), ('dissolutely', 1), ('distemperature', 1), ('division', 1), ('doing', 1), ('done.', 1), ('doors:', 1), ('doubtful.', 1), ('down:', 1), ('downstairs', 1), ('draff', 1), ('drawer?', 1), ('drench', 1), ('dried', 1), ('droppd', 1), ('drove', 1), ('drowned', 1), ('drum!', 1), ('drunkard.', 1), ('duteous', 1), ('duty', 1), ('dyeing', 1), ('dying', 1), ('dying:', 1), ('earnest', 1), ('eating', 1), ('edicts', 1), ('egg', 1), ('eight-penny', 1), ('eldest', 1), ('eleventh', 1), ('elf-skin', 1), ('eloquence', 1), ('else:', 1), ('emptied', 1), ('empty', 1), ('encamped?', 1), ('endured', 1), ('enforced', 1), ('engross', 1), ('enlargement', 1), ('enter', 1), ('enter:', 1), ('enterprise:', 1), ('equals', 1), ('equity', 1), ('eruptions', 1), ('evening', 1), ('exceeding', 1), ('except', 1), ('exhalations?', 1), ('exhaled', 1), ('exit', 1), ('experiments.', 1), ('extempore?', 1), ('extreme', 1), ('eye:', 1), ('eyes.', 1), ('eyesight?', 1), ('faction', 1), ('fair.', 1), ('fairly', 1), ('falling', 1), ('fantasy', 1), ('far.', 1), ('far?', 1), ('fast.', 1), ('fat-guts!', 1), ('father:', 1), ('fathom-line', 1), ('fault:', 1), ('faults:', 1), ('fearing', 1), ('fears.', 1), ('featherd', 1), ('feel', 1), ('fetches', 1), ('fickle', 1), ('fiddlestick:', 1), ('fie!', 1), ('fiend', 1), ('fights', 1), ('filled', 1), ('fire-eyed', 1), ('flame-coloured', 1), ('flatter', 1), ('flattery', 1), ('fleece', 1), ('flies', 1), ('flower', 1), ('flying.', 1), ('fobbed', 1), ('foes', 1), ('followed', 1), ('following', 1), ('foot-land', 1), ('footing', 1), ('forces', 1), ('foresee', 1), ('forethink', 1), ('forgetful', 1), ('form', 1), ('forsworn', 1), ('forth.', 1), ('forth?', 1), ('fortunes', 1), ('frailty.', 1), ('frame', 1), ('franklin', 1), ('fray', 1), ('frets', 1), ('frontiers', 1), ('frowns', 1), ('full.', 1), ('furious', 1), ('gallons', 1), ('garlic', 1), ('garters!', 1), ('gavest', 1), ('gently', 1), ('getst', 1), ('gibbets', 1), ('giddy', 1), ('gift', 1), ('gild', 1), ('girdle', 1), ('givest', 1), ('giving', 1), ('glittering', 1), ('glutted', 1), ('goes!', 1), ('gorbellied', 1), ('governd', 1), ('grace--majesty', 1), ('grafted', 1), ('grandfather', 1), ('grandfathers.', 1), ('grapple:', 1), ('grate', 1), ('grieves', 1), ('grievous', 1), ('grievous.', 1), ('griffin', 1), ('grossly.', 1), ('ground.', 1), ('ground:', 1), ('grove', 1), ('guest.', 1), ('guests:', 1), ('gyves', 1), ('ha', 1), ('ha?', 1), ('hair.', 1), ('half-faced', 1), ('half-moon', 1), ('hall', 1), ('halter.', 1), ('hand-saw--ecce', 1), ('hanged:', 1), ('hangman?', 1), ('happiest', 1), ('happily', 1), ('harm.', 1), ('haughtiness', 1), ('haunt', 1), ('have.', 1), ('he:', 1), ('heady', 1), ('hear?', 1), ('heard.', 1), ('hearkend', 1), ('heart:', 1), ('heart?', 1), ('heaven!', 1), ('heavenly-harnessd', 1), ('hedge:', 1), ('heinously', 1), ('heir-apparent?', 1), ('hell-fire', 1), ('hem!', 1), ('herds', 1), ('hereafter', 1), ('herein.', 1), ('hid', 1), ('highness', 1), ('hill!', 1), ('hill:', 1), ('himself?', 1), ('his:', 1), ('hit', 1), ('hitherto', 1), ('holland', 1), ('holp', 1), ('home:', 1), ('home?', 1), ('honour:', 1), ('hook--what', 1), ('hope.', 1), ('horrible', 1), ('horsemanship.', 1), ('hose', 1), ('house?', 1), ('how.', 1), ('hull', 1), ('hum', 1), ('humours.', 1), ('hung', 1), ('hurt', 1), ('ignis', 1), ('ignorance', 1), ('impatience', 1), ('import', 1), ('import:', 1), ('impressed', 1), ('in:', 1), ('inch', 1), ('indirect', 1), ('infect', 1), ('infinitely.', 1), ('ingrate', 1), ('inordinate', 1), ('instantly.', 1), ('insurrection', 1), ('intelligence.', 1), ('intemperance:', 1), ('intent', 1), ('interchangeably', 1), ('iteration', 1), ('jaws', 1), ('jesters', 1), ('joined', 1), ('joints', 1), ('jordan', 1), ('judge.', 1), ('keen', 1), ('keeping', 1), ('killing', 1), ('kine', 1), ('kinsman', 1), ('kinsman:', 1), ('kisses', 1), ('knighthood', 1), ('knowing', 1), ('labouring', 1), ('lack', 1), ('lack-brain', 1), ('lad?', 1), ('lady?', 1), ('lag-end', 1), ('laid', 1), ('lane', 1), ('lap', 1), ('last.', 1), ('late-disturbed', 1), ('lath', 1), ('lavish', 1), ('layest', 1), ('leader', 1), ('leagues', 1), ('learning', 1), ('leave.', 1), ('led', 1), ('leisure', 1), ('lewdly', 1), ('liege.', 1), ('lieutenant', 1), ('lieutenants', 1), ('life-blood', 1), ('limbs', 1), ('lion:', 1), ('living?', 1), ('loach.', 1), ('locks', 1), ('lofty', 1), ('loggerheads', 1), ('long-staff', 1), ('looked', 1), ('looking', 1), ('looks.', 1), ('loop', 1), ('loved.', 1), ('lovers', 1), ('loyal', 1), ('luckily', 1), ('luggage', 1), ('lustier', 1), ('mad-headed', 1), ('maiden', 1), ('maidenhead', 1), ('maim', 1), ('mainly', 1), ('major:', 1), ('mammets', 1), ('manifold', 1), ('mans', 1), ('map:', 1), ('march?', 1), ('marks.', 1), ('married.', 1), ('mask', 1), ('masterd', 1), ('masters:', 1), ('match', 1), ('match.', 1), ('matter!', 1), ('melted', 1), ('mercy:', 1), ('mew', 1), ('midnight.', 1), ('midriff.', 1), ('milliner', 1), ('mincing', 1), ('mines', 1), ('minion', 1), ('minutes', 1), ('misbegotten', 1), ('misprison', 1), ('miss', 1), ('misused', 1), ('modestly', 1), ('moe', 1), ('mood', 1), ('moon.', 1), ('more?', 1), ('mori:', 1), ('moss-grown', 1), ('motion', 1), ('motion.', 1), ('moulded', 1), ('mouldwarp', 1), ('mountain', 1), ('mouths', 1), ('moved.', 1), ('multitudes', 1), ('murdered', 1), ('murderous', 1), ('musing', 1), ('myself?', 1), ('naked', 1), ('name?', 1), ('narrow', 1), ('nearer', 1), ('neats', 1), ('needest', 1), ('needful', 1), ('neglectingly', 1), ('nest', 1), ('news.', 1), ('nice', 1), ('night-tripping', 1), ('night:', 1), ('nimble-footed', 1), ('nobody', 1), ('none?', 1), ('northward', 1), ('nothing.', 1), ('now:', 1), ('oclock?', 1), ('off:', 1), ('offerd', 1), ('offering', 1), ('office', 1), ('oft.', 1), ('oil', 1), ('oily', 1), ('on!', 1), ('on?', 1), ('one-half', 1), ('one?', 1), ('opposition', 1), ('orb', 1), ('owes', 1), ('ox', 1), ('packed.', 1), ('packing.', 1), ('pale-faced', 1), ('palisadoes', 1), ('palpable.', 1), ('parapets', 1), ('parmaceti', 1), ('participation:', 1), ('parties', 1), ('parts', 1), ('party', 1), ('patiently', 1), ('payment', 1), ('peevish', 1), ('penny-worth', 1), ('pepper-gingerbread', 1), ('peppercorn', 1), ('peppered', 1), ('peppered:', 1), ('perceive', 1), ('pewter.', 1), ('pinch', 1), ('pins', 1), ('pismires', 1), ('pizzle', 1), ('place?--', 1), ('play:', 1), ('plumed', 1), ('pocket!', 1), ('pointed', 1), ('policy', 1), ('poor?', 1), ('portly.', 1), ('possession', 1), ('possible', 1), ('pouncet-box', 1), ('pounds.', 1), ('praises', 1), ('precedent.', 1), ('precious', 1), ('preparation.', 1), ('prepare', 1), ('prepared.', 1), ('prick', 1), ('pride?', 1), ('prison.', 1), ('prisoner.', 1), ('prisoners--', 1), ('private', 1), ('prize?', 1), ('proceedings', 1), ('proclamation:', 1), ('procure', 1), ('prodigals', 1), ('profaned', 1), ('profession', 1), ('proof.', 1), ('prophesy', 1), ('proud.', 1), ('proverbs:', 1), ('psalms', 1), ('pudding', 1), ('purse-taking.', 1), ('purses:', 1), ('purses?', 1), ('quailing', 1), ('quick-raised', 1), ('quilt!', 1), ('rabbit-sucker', 1), ('racks', 1), ('radish:', 1), ('raising', 1), ('rakers', 1), ('ramping', 1), ('range', 1), ('ransomless', 1), ('rareness', 1), ('rascal!', 1), ('rascals.', 1), ('rather?', 1), ('raven', 1), ('reading', 1), ('receipt', 1), ('receive', 1), ('reckoning!', 1), ('recreation', 1), ('red-breast', 1), ('reeds', 1), ('regard', 1), ('regards', 1), ('rememberd', 1), ('remnant', 1), ('repute', 1), ('resolution', 1), ('rest.', 1), ('restore', 1), ('retires', 1), ('revengement', 1), ('reversion:', 1), ('revolt.', 1), ('rewards', 1), ('rites', 1), ('rob?', 1), ('roguery', 1), ('rooms', 1), ('roundly.', 1), ('rub', 1), ('running!', 1), ('rustling', 1), ('rusty', 1), ('sacrifices', 1), ('sallies', 1), ('salutations', 1), ('salvation', 1), ('sandy-bottomd', 1), ('sarcenet', 1), ('say--', 1), ('scapes', 1), ('scarce', 1), ('scarlet', 1), ('scatterd', 1), ('scot', 1), ('scourged', 1), ('scutcheon:', 1), ('search', 1), ('season', 1), ('secretly', 1), ('see:', 1), ('seemd', 1), ('servant:', 1), ('servants', 1), ('shalt.', 1), ('shes', 1), ('short!', 1), ('shorter', 1), ('shortness', 1), ('shotten', 1), ('shouts', 1), ('shown', 1), ('shrill', 1), ('sick.', 1), ('sickness--', 1), ('sincerity', 1), ('sinew', 1), ('sings.', 1), ('sirs:', 1), ('sitst', 1), ('sixpenny', 1), ('skin', 1), ('slanderd', 1), ('sleep?', 1), ('sleeves', 1), ('slip.', 1), ('slow', 1), ('smallest', 1), ('smiling', 1), ('smooth-tongue', 1), ('sneak-cup:', 1), ('sneaking', 1), ('snuff', 1), ('soft!', 1), ('sooth!', 1), ('sort', 1), ('sparrow.', 1), ('speak:', 1), ('speaking', 1), ('speech.', 1), ('speed.', 1), ('sphere', 1), ('spirit.', 1), ('spoke', 1), ('spring!', 1), ('stall', 1), ('stand:', 1), ('stark', 1), ('starling', 1), ('starting-hole', 1), ('starveling', 1), ('stays', 1), ('steed', 1), ('steppd', 1), ('stinking', 1), ('store', 1), ('straightest', 1), ('strappado', 1), ('striving', 1), ('stuck', 1), ('stuffed', 1), ('subjects', 1), ('subtle', 1), ('succor', 1), ('suits', 1), ('sully:', 1), ('summer-house', 1), ('sun-like', 1), ('sung', 1), ('supper:', 1), ('supplied', 1), ('surgery', 1), ('suspect', 1), ('swallowing', 1), ('swathling', 1), ('swayd', 1), ('sweeten', 1), ('swelling', 1), ('swim:', 1), ('swine-keeping', 1), ('swollen', 1), ('sword-and-buckler', 1), ('sword:', 1), ('sympathize', 1), ('tacked', 1), ('tailors-yard', 1), ('tall', 1), ('tallow-catch--', 1), ('tallow.', 1), ('target', 1), ('tattered', 1), ('tavern-reckonings', 1), ('teeming', 1), ('tell?', 1), ('temperate', 1), ('tempted', 1), ('ten.', 1), ('tenants', 1), ('tench!', 1), ('tents', 1), ('term', 1), ('that?', 1), ('theft', 1), ('theme', 1), ('therein', 1), ('therewith', 1), ('thigh:', 1), ('thine.', 1), ('thing!', 1), ('this--', 1), ('thou!', 1), ('thoughts.', 1), ('threatens', 1), ('threefold', 1), ('threescore', 1), ('throats:', 1), ('throw', 1), ('thumb-ring:', 1), ('thus.', 1), ('thyself.', 1), ('tickle-brain.', 1), ('tide', 1), ('tied', 1), ('time--what', 1), ('time?', 1), ('times?', 1), ('toasts-and-butter', 1), ('together.', 1), ('tongue:', 1), ('tookt', 1), ('tooth.', 1), ('top', 1), ('toss', 1), ('towers.', 1), ('trace', 1), ('trade-fallen', 1), ('trading', 1), ('traitors', 1), ('tranquillity', 1), ('transformation', 1), ('travel', 1), ('treason?', 1), ('trembling', 1), ('trenching', 1), ('trouble', 1), ('trust?', 1), ('truth:', 1), ('truth?', 1), ('tush', 1), ('twice', 1), ('unbound', 1), ('uncolted.', 1), ('undone.', 1), ('ungrown', 1), ('unhandsome', 1), ('unhappy', 1), ('unlooked', 1), ('unmannerly', 1), ('unminded', 1), ('unprofitable', 1), ('unrevenged:', 1), ('unruly', 1), ('unsorted', 1), ('unthankful', 1), ('unto?', 1), ('unwelcome', 1), ('up:', 1), ('up]', 1), ('upstairs', 1), ('utmost', 1), ('utterly', 1), ('vain', 1), ('vanity.', 1), ('vaulted', 1), ('vaunting', 1), ('vein.', 1), ('vexd', 1), ('vigilant', 1), ('villain.', 1), ('visit', 1), ('visited:', 1), ('vouchsafe', 1), ('vulgar', 1), ('wage', 1), ('wain', 1), ('wake', 1), ('walked', 1), ('walkst', 1), ('wan', 1), ('wantonness.', 1), ('war?', 1), ('wardrobe.', 1), ('warlike', 1), ('warm', 1), ('warrior.', 1), ('washd', 1), ('wastt', 1), ('watchd', 1), ('water-colours', 1), ('way?', 1), ('waylaid:', 1), ('we.', 1), ('wears', 1), ('weasel', 1), ('weaver', 1), ('weight', 1), ('well-beseeming', 1), ('well-respected', 1), ('well?', 1), ('where.', 1), ('whistle', 1), ('whistling', 1), ('white-bearded', 1), ('wicked!', 1), ('wifes', 1), ('wildfire', 1), ('willingly:', 1), ('wind?', 1), ('winds', 1), ('winged', 1), ('wiped', 1), ('wish', 1), ('wishd', 1), ('wisheth', 1), ('witness', 1), ('woes', 1), ('won.', 1), ('wondrous', 1), ('wool-sack!', 1), ('words!', 1), ('world!', 1), ('worms', 1), ('wretched', 1), ('written', 1), ('wrung', 1), ('ye.', 1), ('year!', 1), ('years?', 1), ('yeomans', 1), ('you--', 1), ('you--God', 1), ('yourselves', 1), ('youthful', 1), ('zeal', 1), ('zeal:', 1), ('2s.', 2), ('Adam', 2), ('Albeit', 2), ('Alls', 2), ('Arm', 2), ('Bolingbroke.', 2), ('Both', 2), ('Breathless', 2), ('Call', 2), ('Came', 2), ('Christendom.', 2), ('Clifton:', 2), ('Dame', 2), ('Didst', 2), ('Edmund', 2), ('Fie', 2), ('Find', 2), ('Francis.', 2), ('From', 2), ('Gadshill.', 2), ('Gaunt', 2), ('Glendower?', 2), ('Ha!', 2), ('John:', 2), ('June', 2), ('Kate.', 2), ('Kate?', 2), ('Kendal', 2), ('Lay', 2), ('Lords', 2), ('Making', 2), ('Many', 2), ('Myself', 2), ('Never', 2), ('Poor', 2), ('Ravenspurgh', 2), ('Sack', 2), ('Save', 2), ('Scottish', 2), ('Scroop', 2), ('Severns', 2), ('Sheriff', 2), ('Should', 2), ('Soon', 2), ('Thats', 2), ('Their', 2), ('Through', 2), ('Thursday', 2), ('Titan', 2), ('To-morrow', 2), ('Uncle', 2), ('Welcome', 2), ('Wilt', 2), ('Within', 2), ('action.', 2), ('advantage', 2), ('advertisement', 2), ('air', 2), ('already.', 2), ('amongst', 2), ('ancestors.', 2), ('angel', 2), ('angers', 2), ('apparent', 2), ('arm', 2), ('armies', 2), ('arms:', 2), ('arras', 2), ('ashamed?', 2), ('ask', 2), ('awhile.', 2), ('back.', 2), ('back:', 2), ('banishd', 2), ('bank', 2), ('banks', 2), ('bare', 2), ('bargain', 2), ('be.', 2), ('be:', 2), ('beard', 2), ('beat', 2), ('beauty', 2), ('become', 2), ('bed?', 2), ('before.', 2), ('believed', 2), ('beyond', 2), ('bleed', 2), ('blushed', 2), ('boldly', 2), ('booty', 2), ('bore', 2), ('born.', 2), ('braver', 2), ('breed', 2), ('bright', 2), ('calld', 2), ('camp.', 2), ('carried', 2), ('castle', 2), ('castle.', 2), ('chance', 2), ('charged', 2), ('cheek', 2), ('cherish', 2), ('cherishd', 2), ('children', 2), ('choose', 2), ('close.', 2), ('clouds', 2), ('commodity', 2), ('comparative', 2), ('conduct', 2), ('counterfeit:', 2), ('courage', 2), ('courtesy.', 2), ('coward!', 2), ('cowardly', 2), ('cowards!', 2), ('crest', 2), ('crowns', 2), ('cuckoo', 2), ('cunning', 2), ('cuts', 2), ('darkness.', 2), ('days.', 2), ('dead:', 2), ('deceived', 2), ('deed', 2), ('defiance', 2), ('demand', 2), ('demanded', 2), ('deputation', 2), ('dials', 2), ('difference', 2), ('discarded', 2), ('discontents', 2), ('dish', 2), ('does', 2), ('door', 2), ('doublet', 2), ('doubt', 2), ('down.', 2), ('dressd', 2), ('drinking', 2), ('drinks', 2), ('dull', 2), ('dust', 2), ('eagles', 2), ('eleven', 2), ('else.', 2), ('enemy.', 2), ('enough:', 2), ('enters', 2), ('entreat', 2), ('exchange', 2), ('execute', 2), ('exploit', 2), ('extraordinary', 2), ('eyelids', 2), ('favours', 2), ('feard', 2), ('fearful', 2), ('fellowship', 2), ('fern-seed', 2), ('field', 2), ('filthy', 2), ('finger', 2), ('five', 2), ('flood', 2), ('flow', 2), ('fly', 2), ('follow', 2), ('followd', 2), ('foot.', 2), ('forfeited', 2), ('forgotten', 2), ('forty', 2), ('fox', 2), ('frighted', 2), ('furnishd', 2), ('further.', 2), ('gallows', 2), ('garment', 2), ('gentlemen.', 2), ('goats', 2), ('goes', 2), ('gone', 2), ('grace?', 2), ('grief', 2), ('griefs', 2), ('guilty', 2), ('guns', 2), ('hacked', 2), ('hand.', 2), ('hanging', 2), ('happy', 2), ('harlotry', 2), ('harm', 2), ('haste.', 2), ('having', 2), ('head?', 2), ('hell', 2), ('hence:', 2), ('her.', 2), ('here:', 2), ('hitherwards', 2), ('ho!', 2), ('hollow', 2), ('holy', 2), ('honesty', 2), ('hoofs', 2), ('hopes', 2), ('horribly', 2), ('husband', 2), ('indent', 2), ('injuries', 2), ('innocency', 2), ('inside', 2), ('interest', 2), ('is:', 2), ('justice', 2), ('knights', 2), ('lad.', 2), ('ladies', 2), ('language', 2), ('leg?', 2), ('lets', 2), ('letter', 2), ('likeness', 2), ('lime', 2), ('lived', 2), ('loose', 2), ('lord!', 2), ('lovely', 2), ('lying', 2), ('mad?', 2), ('madcap', 2), ('majesty.', 2), ('manage', 2), ('manners', 2), ('marry', 2), ('marvel', 2), ('mass', 2), ('matchd', 2), ('me:', 2), ('meeting', 2), ('mend', 2), ('mere', 2), ('merry', 2), ('methinks', 2), ('million:', 2), ('mischance', 2), ('monstrous!', 2), ('moulten', 2), ('move', 2), ('myself.', 2), ('neat', 2), ('nether', 2), ('news:', 2), ('news?', 2), ('nine', 2), ('nobility.', 2), ('noses', 2), ('noted', 2), ('oaths', 2), ('obtaining', 2), ('offend', 2), ('oftentimes', 2), ('ours.', 2), ('out.', 2), ('owest', 2), ('pair', 2), ('papers', 2), ('parley', 2), ('pause', 2), ('pennyworth', 2), ('people', 2), ('perilous', 2), ('picked', 2), ('picking', 2), ('pistol', 2), ('playing', 2), ('pockets.', 2), ('point.', 2), ('possessd', 2), ('pound.', 2), ('presently', 2), ('press', 2), ('pressed', 2), ('pride', 2), ('proof', 2), ('prophecies', 2), ('protest', 2), ('prune', 2), ('punish', 2), ('purposes.', 2), ('purse', 2), ('quality', 2), ('quarrel', 2), ('quickly', 2), ('rare', 2), ('realm', 2), ('reason:', 2), ('rebellion', 2), ('regarded', 2), ('retirement', 2), ('retold', 2), ('retreat', 2), ('reverend', 2), ('ribs', 2), ('rides', 2), ('robbery', 2), ('robes', 2), ('rogue.', 2), ('rude', 2), ('running', 2), ('sack:', 2), ('sayst', 2), ('sealed', 2), ('seems', 2), ('services', 2), ('shake', 2), ('shames', 2), ('shapes', 2), ('sharing', 2), ('shillings', 2), ('shines', 2), ('shoulders', 2), ('showed', 2), ('sing.', 2), ('skill', 2), ('slaves', 2), ('small', 2), ('smell', 2), ('smooth', 2), ('so?', 2), ('soil', 2), ('solus', 2), ('sooth', 2), ('sought', 2), ('sounded', 2), ('south', 2), ('sparrow', 2), ('speed:', 2), ('spleen', 2), ('standest', 2), ('stars', 2), ('stolen', 2), ('stood', 2), ('stop', 2), ('strangest', 2), ('streets', 2), ('strength', 2), ('strike', 2), ('studies', 2), ('stung', 2), ('suddenly', 2), ('surety', 2), ('sway', 2), ('tales', 2), ('talkd', 2), ('tame', 2), ('temper', 2), ('tenderness.', 2), ('thee?', 2), ('them?', 2), ('there.', 2), ('thief.', 2), ('this?', 2), ('thou?', 2), ('thrive', 2), ('throne.', 2), ('tickle', 2), ('tidings', 2), ('time.', 2), ('train', 2), ('traitor', 2), ('trim', 2), ('triumph', 2), ('trodden', 2), ('trumpets', 2), ('twixt', 2), ('undertake', 2), ('uneven', 2), ('unless', 2), ('us!', 2), ('us:', 2), ('vanity!', 2), ('varlet', 2), ('vilely', 2), ('virtuous', 2), ('vizards', 2), ('vow', 2), ('wag!', 2), ('ways', 2), ('weak', 2), ('well:', 2), ('whereof', 2), ('wide', 2), ('wild-duck.', 2), ('wilt.', 2), ('wing', 2), ('wise', 2), ('wisely', 2), ('withdraw', 2), ('womb', 2), ('wonder', 2), ('words', 2), ('world.', 2), ('writes', 2), ('wrongs', 2), ('yea', 2), ('year', 2), ('yesternight:', 2), ('you!', 2), ('you:', 2), ('yours', 2), ('zounds', 2), ('.', 3), ('Another', 3), ('Because', 3), ('Bid', 3), ('Deliver', 3), ('Ere', 3), ('Falstaff:', 3), ('GADSHILL', 3), ('GLENDOWER', 3), ('Hang', 3), ('Harrys', 3), ('Hear', 3), ('Henry', 3), ('How!', 3), ('IV', 3), ('IV.', 3), ('Irish', 3), ('Like', 3), ('Look', 3), ('Mark', 3), ('May', 3), ('Messenger', 3), ('More', 3), ('Mortimer!', 3), ('Percy:', 3), ('Prithee', 3), ('Severn', 3), ('She', 3), ('Shrewsbury', 3), ('Though', 3), ('Three', 3), ('Trent', 3), ('Tut', 3), ('Unless', 3), ('Up', 3), ('Vernon', 3), ('Wherein', 3), ('absence', 3), ('ago', 3), ('along', 3), ('amend', 3), ('anon.', 3), ('attend.', 3), ('barren', 3), ('behold', 3), ('besides', 3), ('bids', 3), ('birth', 3), ('body', 3), ('bottom', 3), ('breakfast', 3), ('brow', 3), ('burning', 3), ('butter.', 3), ('buy', 3), ('calls', 3), ('camp', 3), ('civil', 3), ('command', 3), ('commonwealth', 3), ('couldst', 3), ('counsel', 3), ('countenance', 3), ('coz', 3), ('cudgel', 3), ('darest', 3), ('daughter', 3), ('dead.', 3), ('deaths', 3), ('defy', 3), ('divide', 3), ('dog', 3), ('door:', 3), ('dozen', 3), ('draw', 3), ('drop', 3), ('during', 3), ('each', 3), ('ease', 3), ('eight', 3), ('either', 3), ('encounter', 3), ('engaged', 3), ('enterprise', 3), ('envy', 3), ('fall', 3), ('falls', 3), ('father.', 3), ('fault', 3), ('field.', 3), ('fiery', 3), ('fine', 3), ('food', 3), ('fresh', 3), ('friends.', 3), ('front', 3), ('gentleman', 3), ('going', 3), ('gold', 3), ('gone?', 3), ('got', 3), ('governed', 3), ('government', 3), ('hanged.', 3), ('has', 3), ('haste', 3), ('held', 3), ('here?', 3), ('him!', 3), ('himself.', 3), ('horseback', 3), ('hostess', 3), ('house:', 3), ('humour', 3), ('humours', 3), ('instinct', 3), ('killed', 3), ('knave', 3), ('knaves', 3), ('knight', 3), ('ladys', 3), ('latter', 3), ('left', 3), ('lie.', 3), ('life.', 3), ('life:', 3), ('line', 3), ('lions', 3), ('living', 3), ('longer', 3), ('lords', 3), ('mad.', 3), ('makest', 3), ('manhood', 3), ('manner', 3), ('marching', 3), ('markd', 3), ('merrily', 3), ('monstrous', 3), ('morning.', 3), ('mothers', 3), ('mountains', 3), ('much.', 3), ('name.', 3), ('names', 3), ('neither', 3), ('nose', 3), ('not.', 3), ('now?', 3), ('o', 3), ('offence', 3), ('often', 3), ('ostler!', 3), ('ourselves', 3), ('parcel', 3), ('pay.', 3), ('perfect', 3), ('pick', 3), ('prince.', 3), ('purses', 3), ('queen', 3), ('quoth', 3), ('rage', 3), ('ran', 3), ('reasons', 3), ('reckoning', 3), ('remember', 3), ('report', 3), ('reward', 3), ('rose', 3), ('scape', 3), ('sceptre', 3), ('scourge', 3), ('seat', 3), ('sees', 3), ('seldom', 3), ('share', 3), ('shirt', 3), ('shore', 3), ('single', 3), ('six', 3), ('slain', 3), ('soft', 3), ('soldier', 3), ('sons', 3), ('soon', 3), ('sound.', 3), ('sounds', 3), ('spend', 3), ('sport', 3), ('still.', 3), ('tarry', 3), ('tavern', 3), ('teaching', 3), ('tedious', 3), ('telling', 3), ('to-night', 3), ('together', 3), ('too:', 3), ('tread', 3), ('truant', 3), ('turnd', 3), ('twelve', 3), ('twere', 3), ('unjust', 3), ('urged', 3), ('utter', 3), ('wag', 3), ('warrant', 3), ('watch', 3), ('whats', 3), ('whence', 3), ('white', 3), ('win', 3), ('wisdom', 3), ('womanhood', 3), ('womans', 3), ('wonderd', 3), ('worst', 3), ('worthy', 3), ('wouldst', 3), ('wound', 3), ('wrong', 3), ('Away', 4), ('Being', 4), ('Carrier', 4), ('Cousin', 4), ('Doth', 4), ('Even', 4), ('FRANCIS', 4), ('Gadshill', 4), ('Had', 4), ('Hal!', 4), ('Have', 4), ('Holmedon', 4), ('I?', 4), ('III.', 4), ('JOHN', 4), ('Jack.', 4), ('John.', 4), ('Kate', 4), ('LORD', 4), ('London', 4), ('London.', 4), ('March', 4), ('Michael', 4), ('Mortimer.', 4), ('Must', 4), ('Nicholas', 4), ('PETO', 4), ('Say', 4), ('Scots', 4), ('Send', 4), ('Those', 4), ('Welsh.', 4), ('Without', 4), ('account', 4), ('beg', 4), ('behalf', 4), ('beseech', 4), ('best', 4), ('bid', 4), ('blessed', 4), ('bottle', 4), ('boys', 4), ('breath', 4), ('called', 4), ('canst', 4), ('cat', 4), ('coin', 4), ('common', 4), ('content', 4), ('council', 4), ('crown', 4), ('deal', 4), ('death.', 4), ('debt', 4), ('devil.', 4), ('didst', 4), ('double', 4), ('drunk', 4), ('embrace', 4), ('farewell.', 4), ('fell', 4), ('fields', 4), ('flesh', 4), ('forgive', 4), ('forgot', 4), ('fourteen', 4), ('hair', 4), ('hanged!', 4), ('heads', 4), ('heels', 4), ('heres', 4), ('hither', 4), ('holds', 4), ('huge', 4), ('itself', 4), ('join', 4), ('kill', 4), ('known', 4), ('labour', 4), ('lantern', 4), ('last', 4), ('lately', 4), ('less', 4), ('liege', 4), ('lord?', 4), ('love.', 4), ('loves', 4), ('low', 4), ('masters', 4), ('matter', 4), ('mens', 4), ('mettle', 4), ('month', 4), ('more:', 4), ('morning', 4), ('nay', 4), ('nephew', 4), ('nobleman', 4), ('oclock', 4), ('opinion', 4), ('opposed', 4), ('ours', 4), ('owe', 4), ('person', 4), ('piece', 4), ('pleasure', 4), ('pluck', 4), ('pound', 4), ('put', 4), ('quite', 4), ('rebel', 4), ('redeem', 4), ('ride', 4), ('right', 4), ('runs', 4), ('safety', 4), ('saved', 4), ('sea', 4), ('seeming', 4), ('short', 4), ('sickness', 4), ('son.', 4), ('song', 4), ('spoken', 4), ('stain', 4), ('stands', 4), ('start', 4), ('stir', 4), ('sugar', 4), ('supper', 4), ('sword.', 4), ('swore', 4), ('taen', 4), ('ten', 4), ('thee!', 4), ('thief', 4), ('things', 4), ('thirty', 4), ('this!', 4), ('this.', 4), ('though', 4), ('thyself', 4), ('touch', 4), ('trumpet', 4), ('turned', 4), ('used', 4), ('valour', 4), ('villain', 4), ('villains', 4), ('walk', 4), ('well.', 4), ('wife', 4), ('withal', 4), ('within', 4), ('wives', 4), ('woman', 4), ('younger', 4), ('ACT', 5), ('EARL', 5), ('Eastcheap.', 5), ('Hath', 5), ('II.', 5), ('Indeed', 5), ('Jesu', 5), ('King', 5), ('Percys', 5), ('Poins!', 5), ('Richard', 5), ('Sblood', 5), ('Shrewsbury.', 5), ('Walter', 5), ('Whats', 5), ('alone', 5), ('arms.', 5), ('aside', 5), ('awhile', 5), ('base', 5), ('bears', 5), ('close', 5), ('courtesy', 5), ('cowards', 5), ('cross', 5), ('cry', 5), ('cut', 5), ('damned', 5), ('dangerous', 5), ('dare', 5), ('dearest', 5), ('deeds', 5), ('do.', 5), ('drive', 5), ('ear', 5), ('else', 5), ('fight.', 5), ('fool', 5), ('forward', 5), ('foul', 5), ('gallant', 5), ('general', 5), ('gentlemen', 5), ('golden', 5), ('guts', 5), ('hadst', 5), ('half', 5), ('hard', 5), ('heart.', 5), ('heavy', 5), ('hill', 5), ('him:', 5), ('horse.', 5), ('instinct.', 5), ('it!', 5), ('king?', 5), ('knew', 5), ('knowest', 5), ('lad', 5), ('lads', 5), ('least', 5), ('light', 5), ('man.', 5), ('man:', 5), ('me!', 5), ('mean', 5), ('men.', 5), ('might', 5), ('offer', 5), ('on.', 5), ('over', 5), ('point', 5), ('presence', 5), ('present', 5), ('proud', 5), ('prove', 5), ('purpose', 5), ('rebels', 5), ('rich', 5), ('rogues', 5), ('sheriff', 5), ('sin', 5), ('sirrah', 5), ('sit', 5), ('sleep', 5), ('sooner', 5), ('speed', 5), ('taken', 5), ('takes', 5), ('thee:', 5), ('then?', 5), ('thought', 5), ('till', 5), ('title', 5), ('trick', 5), ('trust', 5), ('under', 5), ('unto', 5), ('us.', 5), ('use', 5), ('vile', 5), ('want', 5), ('wear', 5), ('while', 5), ('whole', 5), ('wild', 5), ('will.', 5), ('wounds', 5), ('you?', 5), ('Against', 6), ('BARDOLPH', 6), ('BLUNT', 6), ('Blunt', 6), ('Faith', 6), ('Farewell', 6), ('Hal?', 6), ('Ned', 6), ('Peace', 6), ('Peto', 6), ('Scotland', 6), ('Some', 6), ('WALTER', 6), ('WESTMORELAND', 6), ('Yet', 6), ('Zounds', 6), ('age', 6), ('anon', 6), ('battle', 6), ('bold', 6), ('brave', 6), ('break', 6), ('breathe', 6), ('buckram', 6), ('deep', 6), ('deny', 6), ('end', 6), ('faith.', 6), ('fathers', 6), ('fifty', 6), ('fill', 6), ('first', 6), ('hang', 6), ('hope', 6), ('horses', 6), ('hours', 6), ('it:', 6), ('lion', 6), ('means', 6), ('met', 6), ('neer', 6), ('no.', 6), ('north', 6), ('not?', 6), ('oath', 6), ('of.', 6), ('oft', 6), ('pardon', 6), ('pocket', 6), ('save', 6), ('sent', 6), ('side', 6), ('sir', 6), ('so:', 6), ('speaks', 6), ('steal', 6), ('strong', 6), ('sworn', 6), ('tale', 6), ('terms', 6), ('thank', 6), ('thee.', 6), ('them:', 6), ('therefore', 6), ('to-day', 6), ('took', 6), ('truly', 6), ('twenty', 6), ('virtue', 6), ('war', 6), ('welcome', 6), ('whom', 6), ('worth', 6), ('yourself', 6), ('Ay', 7), ('Bardolph', 7), ('English', 7), ('Gods', 7), ('LANCASTER', 7), ('Nor', 7), ('Owen', 7), ('These', 7), ('VERNON', 7), ('Will', 7), ('York', 7), ('[Within]', 7), ('about', 7), ('already', 7), ('banish', 7), ('behind', 7), ('bloody', 7), ('bound', 7), ('business', 7), ('certain', 7), ('counterfeit', 7), ('court', 7), ('dead', 7), ('ere', 7), ('far', 7), ('further', 7), ('gentle', 7), ('greatness', 7), ('ground', 7), ('heart', 7), ('hearts', 7), ('home', 7), ('house', 7), ('i', 7), ('lend', 7), ('letters', 7), ('new', 7), ('none', 7), ('only', 7), ('paid', 7), ('peace', 7), ('place', 7), ('question', 7), ('ransom', 7), ('run', 7), ('saw', 7), ('seen', 7), ('send', 7), ('sun', 7), ('thing', 7), ('told', 7), ('turn', 7), ('wert', 7), ('wind', 7), ('without', 7), ('years', 7), ('youth', 7), ('All', 8), ('At', 8), ('Did', 8), ('Earl', 8), ('Francis', 8), ('Francis!', 8), ('Hostess', 8), ('Hotspur', 8), ('KING', 8), ('Lancaster', 8), ('Northumberland', 8), ('Or', 8), ('Our', 8), ('Poins', 8), ('SIR', 8), ('Such', 8), ('Thy', 8), ('Whose', 8), ('Your', 8), ('afoot', 8), ('alive', 8), ('bring', 8), ('brought', 8), ('cold', 8), ('coward', 8), ('cup', 8), ('day.', 8), ('days', 8), ('dear', 8), ('drawn', 8), ('eye', 8), ('fellow', 8), ('fire', 8), ('foot', 8), ('fortune', 8), ('gave', 8), ('heaven', 8), ('lead', 8), ('mad', 8), ('money', 8), ('need', 8), ('news', 8), ('nothing', 8), ('pay', 8), ('plot', 8), ('praise', 8), ('rascal', 8), ('read', 8), ('reason', 8), ('says', 8), ('seven', 8), ('so.', 8), ('state', 8), ('sure', 8), ('swear', 8), ('them.', 8), ('thieves', 8), ('times', 8), ('to-morrow', 8), ('wherein', 8), ('wilt', 8), ('DOUGLAS', 9), ('Here', 9), ('OF', 9), ('Scot', 9), ('Westmoreland', 9), ('Worcester', 9), ('answer', 9), ('both', 9), ('company', 9), ('given', 9), ('help', 9), ('high', 9), ('himself', 9), ('kings', 9), ('lie', 9), ('looks', 9), ('near', 9), ('next', 9), ('now.', 9), ('off', 9), ('once', 9), ('pray', 9), ('rather', 9), ('rest', 9), ('rob', 9), ('rogue', 9), ('sayest', 9), ('shalt', 9), ('show', 9), ('thine', 9), ('through', 9), ('too.', 9), ('valiant', 9), ('villanous', 9), ('whose', 9), ('Anon', 10), ('HOTSPUR', 10), ('His', 10), ('I.', 10), ('Let', 10), ('Not', 10), ('On', 10), ('Than', 10), ('There', 10), ('Upon', 10), ('WORCESTER', 10), ('Welsh', 10), ('arms', 10), ('back', 10), ('before', 10), ('die', 10), ('drink', 10), ('enough', 10), ('fight', 10), ('forth', 10), ('friends', 10), ('heard', 10), ('indeed', 10), ('into', 10), ('kind', 10), ('king.', 10), ('land', 10), ('lies', 10), ('long', 10), ('look', 10), ('lost', 10), ('me?', 10), ('shame', 10), ('she', 10), ('soldiers', 10), ('sword', 10), ('thats', 10), ('theres', 10), ('tongue', 10), ('truth', 10), ('uncle', 10), ('England', 11), ('Give', 11), ('Glendower', 11), ('Good', 11), ('Is', 11), ('Re-enter', 11), ('after', 11), ('bear', 11), ('charge', 11), ('eyes', 11), ('hour', 11), ('hundred', 11), ('lay', 11), ('live', 11), ('nor', 11), ('play', 11), ('prince', 11), ('prisoners', 11), ('thus', 11), ('came', 12), ('comes', 12), ('death', 12), ('dost', 12), ('hold', 12), ('it.', 12), ('it?', 12), ('myself', 12), ('power', 12), ('same', 12), ('since', 12), ('soul', 12), ('who', 12), ('why', 12), ('Go', 13), ('They', 13), ('against', 13), ('every', 13), ('hot', 13), ('keep', 13), ('lady', 13), ('little', 13), ('mine', 13), ('most', 13), ('other', 13), ('poor', 13), ('stand', 13), ('still', 13), ('way', 13), ('Do', 14), ('Then', 14), ('brother', 14), ('him.', 14), ('FALSTAFF', 15), ('When', 15), ('Where', 15), ('even', 15), ('ever', 15), ('find', 15), ('full', 15), ('grace', 15), ('made', 15), ('night', 15), ('those', 15), ('thousand', 15), ('word', 15), ('you.', 15), ('An', 16), ('Falstaff', 16), ('Nay', 16), ('cannot', 16), ('done', 16), ('earth', 16), ('fair', 16), ('fat', 16), ('hand', 16), ('lord.', 16), ('me.', 16), ('prithee', 16), ('said', 16), ('three', 16), ('where', 16), ('It', 17), ('Prince', 17), ('Wales', 17), ('We', 17), ('Who', 17), ('devil', 17), ('honour', 17), ('meet', 17), ('plague', 17), ('sack', 17), ('very', 17), ('SCENE', 18), ('Shall', 18), ('Yea', 18), ('being', 18), ('better', 18), ('leave', 18), ('noble', 18), ('son', 18), ('Mortimer', 19), ('blood', 19), ('faith', 19), ('many', 19), ('part', 19), ('world', 19), ('Now', 20), ('With', 20), ('day', 20), ('face', 20), ('four', 20), ('own', 20), ('Douglas', 21), ('PRINCE', 21), ('again', 21), ('father', 21), ('go', 21), ('head', 21), ('name', 21), ('take', 21), ('How', 22), ('great', 22), ('her', 22), ('tis', 22), ('Jack', 23), ('Thou', 23), ('Which', 23), ('away', 23), ('been', 23), ('cousin', 23), ('horse', 23), ('life', 23), ('love', 23), ('sweet', 23), ('Hal', 24), ('could', 24), ('speak', 24), ('', 25), ('Come', 25), ('any', 25), ('down', 25), ('fear', 25), ('much', 25), ('HENRY', 26), ('call', 26), ('doth', 26), ('which', 26), ('ye', 26), ('Exeunt', 27), ('Exit', 27), ('John', 27), ('So', 27), ('This', 27), ('men', 27), ('must', 27), ('old', 27), ('these', 27), ('By', 28), ('No', 28), ('Well', 28), ('give', 28), ('true', 28), ('had', 29), ('one', 29), ('see', 29), ('set', 29), ('some', 29), ('can', 30), ('say', 30), ('two', 30), ('You', 32), ('here', 32), ('should', 32), ('think', 32), ('too', 32), ('may', 33), ('Harry', 34), ('If', 34), ('My', 35), ('Percy', 35), ('hast', 35), ('hear', 35), ('how', 35), ('In', 36), ('up', 36), ('Sir', 37), ('know', 37), ('out', 37), ('God', 38), ('never', 38), ('time', 38), ('yet', 38), ('make', 39), ('than', 40), ('their', 40), ('For', 41), ('Of', 43), ('Why', 43), ('That', 44), ('tell', 44), ('As', 45), ('Lord', 45), ('king', 45), ('let', 45), ('there', 46), ('hath', 47), ('when', 47), ('He', 49), ('man', 49), ('now', 49), ('well', 49), ('were', 49), ('Enter', 50), ('come', 50), ('more', 51), ('then', 51), ('upon', 53), ('O', 54), ('art', 55), ('lord', 55), ('us', 55), ('A', 56), ('such', 56), ('or', 57), ('would', 57), ('like', 58), ('them', 59), ('did', 61), ('was', 62), ('But', 66), ('what', 66), ('What', 67), ('an', 68), ('from', 68), ('they', 68), ('am', 69), ('good', 70), ('To', 74), ('no', 76), ('at', 77), ('are', 78), ('do', 78), ('we', 84), ('if', 85), ('thee', 86), ('Ill', 87), ('by', 87), ('our', 92), ('on', 98), ('thy', 102), ('The', 105), ('but', 114), ('shall', 114), ('so', 114), ('all', 117), ('him', 118), ('your', 121), ('will', 125), ('have', 148), ('this', 151), ('it', 159), ('his', 161), ('he', 164), ('for', 170), ('as', 182), ('with', 183), ('be', 186), ('me', 192), ('is', 204), ('that', 206), ('And', 208), ('thou', 228), ('not', 239), ('you', 263), ('my', 298), ('in', 336), ('to', 377), ('a', 485), ('of', 577), ('I', 613), ('and', 655), ('the', 759)]\n"
     ]
    }
   ],
   "source": [
    "print(word_numberOfOccurances)"
   ]
  },
  {
   "cell_type": "code",
   "execution_count": 31,
   "metadata": {},
   "outputs": [
    {
     "name": "stdout",
     "output_type": "stream",
     "text": [
      "24727\n"
     ]
    }
   ],
   "source": [
    "print(len(words))"
   ]
  },
  {
   "cell_type": "code",
   "execution_count": 32,
   "metadata": {},
   "outputs": [],
   "source": [
    "mostUsedWords = list(map(lambda a: a[0], word_numberOfOccurances[-10:]))"
   ]
  },
  {
   "cell_type": "code",
   "execution_count": 33,
   "metadata": {},
   "outputs": [
    {
     "name": "stdout",
     "output_type": "stream",
     "text": [
      "['not', 'you', 'my', 'in', 'to', 'a', 'of', 'I', 'and', 'the']\n"
     ]
    }
   ],
   "source": [
    "print(mostUsedWords)"
   ]
  },
  {
   "cell_type": "code",
   "execution_count": 34,
   "metadata": {},
   "outputs": [],
   "source": [
    "for colWord in mostUsedWords:\n",
    "    sData[colWord] =  sData.apply(lambda row : row['Words'].count(colWord), axis = 1)"
   ]
  },
  {
   "cell_type": "code",
   "execution_count": 47,
   "metadata": {},
   "outputs": [],
   "source": [
    "sData['Act'] = sData.apply(lambda row :  0 if len(str(row['ActSceneLine']).split('.')) == 1 else str(row['ActSceneLine']).split('.')[0], axis = 1)"
   ]
  },
  {
   "cell_type": "code",
   "execution_count": 48,
   "metadata": {},
   "outputs": [],
   "source": [
    "sData['Scene'] = sData.apply(lambda row :  0 if len(str(row['ActSceneLine']).split('.')) == 1 else str(row['ActSceneLine']).split('.')[1], axis = 1)"
   ]
  },
  {
   "cell_type": "code",
   "execution_count": 49,
   "metadata": {},
   "outputs": [],
   "source": [
    "sData['Line'] = sData.apply(lambda row :  0 if len(str(row['ActSceneLine']).split('.')) == 1 else str(row['ActSceneLine']).split('.')[2], axis = 1)"
   ]
  },
  {
   "cell_type": "code",
   "execution_count": 50,
   "metadata": {},
   "outputs": [
    {
     "name": "stdout",
     "output_type": "stream",
     "text": [
      "      Dataline      Play  PlayerLinenumber ActSceneLine         Player  \\\n",
      "0            1  Henry IV               NaN          NaN            NaN   \n",
      "1            2  Henry IV               NaN          NaN            NaN   \n",
      "2            3  Henry IV               NaN          NaN            NaN   \n",
      "3            4  Henry IV               1.0        1.1.1  KING HENRY IV   \n",
      "4            5  Henry IV               1.0        1.1.2  KING HENRY IV   \n",
      "...        ...       ...               ...          ...            ...   \n",
      "3200      3201  Henry IV               8.0       5.5.42  KING HENRY IV   \n",
      "3201      3202  Henry IV               8.0       5.5.43  KING HENRY IV   \n",
      "3202      3203  Henry IV               8.0       5.5.44  KING HENRY IV   \n",
      "3203      3204  Henry IV               8.0       5.5.45  KING HENRY IV   \n",
      "3204      3205  Henry IV               8.0          NaN  KING HENRY IV   \n",
      "\n",
      "                                             PlayerLine  \\\n",
      "0                                                 ACT I   \n",
      "1                          SCENE I. London. The palace.   \n",
      "2     Enter KING HENRY, LORD JOHN OF LANCASTER, the ...   \n",
      "3                So shaken as we are, so wan with care,   \n",
      "4            Find we a time for frighted peace to pant,   \n",
      "...                                                 ...   \n",
      "3200        Rebellion in this land shall lose his sway,   \n",
      "3201            Meeting the cheque of such another day:   \n",
      "3202           And since this business so fair is done,   \n",
      "3203          Let us not leave till all our own be won.   \n",
      "3204                                             Exeunt   \n",
      "\n",
      "                                                  Words  not  you  my  in  to  \\\n",
      "0                                              [ACT, I]    0    0   0   0   0   \n",
      "1                    [SCENE, I., London., The, palace.]    0    0   0   0   0   \n",
      "2     [Enter, KING, HENRY, LORD, JOHN, OF, LANCASTER...    0    0   0   0   0   \n",
      "3        [So, shaken, as, we, are, so, wan, with, care]    0    0   0   0   0   \n",
      "4     [Find, we, a, time, for, frighted, peace, to, ...    0    0   0   0   1   \n",
      "...                                                 ...  ...  ...  ..  ..  ..   \n",
      "3200  [Rebellion, in, this, land, shall, lose, his, ...    0    0   0   1   0   \n",
      "3201    [Meeting, the, cheque, of, such, another, day:]    0    0   0   0   0   \n",
      "3202   [And, since, this, business, so, fair, is, done]    0    0   0   0   0   \n",
      "3203  [Let, us, not, leave, till, all, our, own, be,...    1    0   0   0   0   \n",
      "3204                                           [Exeunt]    0    0   0   0   0   \n",
      "\n",
      "      a  of  I  and  the Act Scene Line  \n",
      "0     0   0  1    0    0   0     0    0  \n",
      "1     0   0  0    0    0   0     0    0  \n",
      "2     0   1  0    1    1   0     0    0  \n",
      "3     0   0  0    0    0   1     1    1  \n",
      "4     1   0  0    0    0   1     1    2  \n",
      "...  ..  .. ..  ...  ...  ..   ...  ...  \n",
      "3200  0   0  0    0    0   5     5   42  \n",
      "3201  0   1  0    0    1   5     5   43  \n",
      "3202  0   0  0    0    0   5     5   44  \n",
      "3203  0   0  0    0    0   5     5   45  \n",
      "3204  0   0  0    0    0   0     0    0  \n",
      "\n",
      "[3205 rows x 20 columns]\n"
     ]
    }
   ],
   "source": [
    "print(sData)"
   ]
  },
  {
   "cell_type": "code",
   "execution_count": null,
   "metadata": {},
   "outputs": [],
   "source": []
  },
  {
   "cell_type": "code",
   "execution_count": 51,
   "metadata": {},
   "outputs": [
    {
     "data": {
      "text/html": [
       "<div>\n",
       "<style scoped>\n",
       "    .dataframe tbody tr th:only-of-type {\n",
       "        vertical-align: middle;\n",
       "    }\n",
       "\n",
       "    .dataframe tbody tr th {\n",
       "        vertical-align: top;\n",
       "    }\n",
       "\n",
       "    .dataframe thead th {\n",
       "        text-align: right;\n",
       "    }\n",
       "</style>\n",
       "<table border=\"1\" class=\"dataframe\">\n",
       "  <thead>\n",
       "    <tr style=\"text-align: right;\">\n",
       "      <th></th>\n",
       "      <th>Dataline</th>\n",
       "      <th>Play</th>\n",
       "      <th>PlayerLinenumber</th>\n",
       "      <th>ActSceneLine</th>\n",
       "      <th>Player</th>\n",
       "      <th>PlayerLine</th>\n",
       "      <th>Words</th>\n",
       "      <th>not</th>\n",
       "      <th>you</th>\n",
       "      <th>my</th>\n",
       "      <th>in</th>\n",
       "      <th>to</th>\n",
       "      <th>a</th>\n",
       "      <th>of</th>\n",
       "      <th>I</th>\n",
       "      <th>and</th>\n",
       "      <th>the</th>\n",
       "      <th>Act</th>\n",
       "      <th>Scene</th>\n",
       "      <th>Line</th>\n",
       "    </tr>\n",
       "  </thead>\n",
       "  <tbody>\n",
       "    <tr>\n",
       "      <th>0</th>\n",
       "      <td>1</td>\n",
       "      <td>Henry IV</td>\n",
       "      <td>NaN</td>\n",
       "      <td>NaN</td>\n",
       "      <td>NaN</td>\n",
       "      <td>ACT I</td>\n",
       "      <td>[ACT, I]</td>\n",
       "      <td>0</td>\n",
       "      <td>0</td>\n",
       "      <td>0</td>\n",
       "      <td>0</td>\n",
       "      <td>0</td>\n",
       "      <td>0</td>\n",
       "      <td>0</td>\n",
       "      <td>1</td>\n",
       "      <td>0</td>\n",
       "      <td>0</td>\n",
       "      <td>0</td>\n",
       "      <td>0</td>\n",
       "      <td>0</td>\n",
       "    </tr>\n",
       "    <tr>\n",
       "      <th>1</th>\n",
       "      <td>2</td>\n",
       "      <td>Henry IV</td>\n",
       "      <td>NaN</td>\n",
       "      <td>NaN</td>\n",
       "      <td>NaN</td>\n",
       "      <td>SCENE I. London. The palace.</td>\n",
       "      <td>[SCENE, I., London., The, palace.]</td>\n",
       "      <td>0</td>\n",
       "      <td>0</td>\n",
       "      <td>0</td>\n",
       "      <td>0</td>\n",
       "      <td>0</td>\n",
       "      <td>0</td>\n",
       "      <td>0</td>\n",
       "      <td>0</td>\n",
       "      <td>0</td>\n",
       "      <td>0</td>\n",
       "      <td>0</td>\n",
       "      <td>0</td>\n",
       "      <td>0</td>\n",
       "    </tr>\n",
       "    <tr>\n",
       "      <th>2</th>\n",
       "      <td>3</td>\n",
       "      <td>Henry IV</td>\n",
       "      <td>NaN</td>\n",
       "      <td>NaN</td>\n",
       "      <td>NaN</td>\n",
       "      <td>Enter KING HENRY, LORD JOHN OF LANCASTER, the ...</td>\n",
       "      <td>[Enter, KING, HENRY, LORD, JOHN, OF, LANCASTER...</td>\n",
       "      <td>0</td>\n",
       "      <td>0</td>\n",
       "      <td>0</td>\n",
       "      <td>0</td>\n",
       "      <td>0</td>\n",
       "      <td>0</td>\n",
       "      <td>1</td>\n",
       "      <td>0</td>\n",
       "      <td>1</td>\n",
       "      <td>1</td>\n",
       "      <td>0</td>\n",
       "      <td>0</td>\n",
       "      <td>0</td>\n",
       "    </tr>\n",
       "    <tr>\n",
       "      <th>3</th>\n",
       "      <td>4</td>\n",
       "      <td>Henry IV</td>\n",
       "      <td>1.0</td>\n",
       "      <td>1.1.1</td>\n",
       "      <td>KING HENRY IV</td>\n",
       "      <td>So shaken as we are, so wan with care,</td>\n",
       "      <td>[So, shaken, as, we, are, so, wan, with, care]</td>\n",
       "      <td>0</td>\n",
       "      <td>0</td>\n",
       "      <td>0</td>\n",
       "      <td>0</td>\n",
       "      <td>0</td>\n",
       "      <td>0</td>\n",
       "      <td>0</td>\n",
       "      <td>0</td>\n",
       "      <td>0</td>\n",
       "      <td>0</td>\n",
       "      <td>1</td>\n",
       "      <td>1</td>\n",
       "      <td>1</td>\n",
       "    </tr>\n",
       "    <tr>\n",
       "      <th>4</th>\n",
       "      <td>5</td>\n",
       "      <td>Henry IV</td>\n",
       "      <td>1.0</td>\n",
       "      <td>1.1.2</td>\n",
       "      <td>KING HENRY IV</td>\n",
       "      <td>Find we a time for frighted peace to pant,</td>\n",
       "      <td>[Find, we, a, time, for, frighted, peace, to, ...</td>\n",
       "      <td>0</td>\n",
       "      <td>0</td>\n",
       "      <td>0</td>\n",
       "      <td>0</td>\n",
       "      <td>1</td>\n",
       "      <td>1</td>\n",
       "      <td>0</td>\n",
       "      <td>0</td>\n",
       "      <td>0</td>\n",
       "      <td>0</td>\n",
       "      <td>1</td>\n",
       "      <td>1</td>\n",
       "      <td>2</td>\n",
       "    </tr>\n",
       "    <tr>\n",
       "      <th>...</th>\n",
       "      <td>...</td>\n",
       "      <td>...</td>\n",
       "      <td>...</td>\n",
       "      <td>...</td>\n",
       "      <td>...</td>\n",
       "      <td>...</td>\n",
       "      <td>...</td>\n",
       "      <td>...</td>\n",
       "      <td>...</td>\n",
       "      <td>...</td>\n",
       "      <td>...</td>\n",
       "      <td>...</td>\n",
       "      <td>...</td>\n",
       "      <td>...</td>\n",
       "      <td>...</td>\n",
       "      <td>...</td>\n",
       "      <td>...</td>\n",
       "      <td>...</td>\n",
       "      <td>...</td>\n",
       "      <td>...</td>\n",
       "    </tr>\n",
       "    <tr>\n",
       "      <th>3200</th>\n",
       "      <td>3201</td>\n",
       "      <td>Henry IV</td>\n",
       "      <td>8.0</td>\n",
       "      <td>5.5.42</td>\n",
       "      <td>KING HENRY IV</td>\n",
       "      <td>Rebellion in this land shall lose his sway,</td>\n",
       "      <td>[Rebellion, in, this, land, shall, lose, his, ...</td>\n",
       "      <td>0</td>\n",
       "      <td>0</td>\n",
       "      <td>0</td>\n",
       "      <td>1</td>\n",
       "      <td>0</td>\n",
       "      <td>0</td>\n",
       "      <td>0</td>\n",
       "      <td>0</td>\n",
       "      <td>0</td>\n",
       "      <td>0</td>\n",
       "      <td>5</td>\n",
       "      <td>5</td>\n",
       "      <td>42</td>\n",
       "    </tr>\n",
       "    <tr>\n",
       "      <th>3201</th>\n",
       "      <td>3202</td>\n",
       "      <td>Henry IV</td>\n",
       "      <td>8.0</td>\n",
       "      <td>5.5.43</td>\n",
       "      <td>KING HENRY IV</td>\n",
       "      <td>Meeting the cheque of such another day:</td>\n",
       "      <td>[Meeting, the, cheque, of, such, another, day:]</td>\n",
       "      <td>0</td>\n",
       "      <td>0</td>\n",
       "      <td>0</td>\n",
       "      <td>0</td>\n",
       "      <td>0</td>\n",
       "      <td>0</td>\n",
       "      <td>1</td>\n",
       "      <td>0</td>\n",
       "      <td>0</td>\n",
       "      <td>1</td>\n",
       "      <td>5</td>\n",
       "      <td>5</td>\n",
       "      <td>43</td>\n",
       "    </tr>\n",
       "    <tr>\n",
       "      <th>3202</th>\n",
       "      <td>3203</td>\n",
       "      <td>Henry IV</td>\n",
       "      <td>8.0</td>\n",
       "      <td>5.5.44</td>\n",
       "      <td>KING HENRY IV</td>\n",
       "      <td>And since this business so fair is done,</td>\n",
       "      <td>[And, since, this, business, so, fair, is, done]</td>\n",
       "      <td>0</td>\n",
       "      <td>0</td>\n",
       "      <td>0</td>\n",
       "      <td>0</td>\n",
       "      <td>0</td>\n",
       "      <td>0</td>\n",
       "      <td>0</td>\n",
       "      <td>0</td>\n",
       "      <td>0</td>\n",
       "      <td>0</td>\n",
       "      <td>5</td>\n",
       "      <td>5</td>\n",
       "      <td>44</td>\n",
       "    </tr>\n",
       "    <tr>\n",
       "      <th>3203</th>\n",
       "      <td>3204</td>\n",
       "      <td>Henry IV</td>\n",
       "      <td>8.0</td>\n",
       "      <td>5.5.45</td>\n",
       "      <td>KING HENRY IV</td>\n",
       "      <td>Let us not leave till all our own be won.</td>\n",
       "      <td>[Let, us, not, leave, till, all, our, own, be,...</td>\n",
       "      <td>1</td>\n",
       "      <td>0</td>\n",
       "      <td>0</td>\n",
       "      <td>0</td>\n",
       "      <td>0</td>\n",
       "      <td>0</td>\n",
       "      <td>0</td>\n",
       "      <td>0</td>\n",
       "      <td>0</td>\n",
       "      <td>0</td>\n",
       "      <td>5</td>\n",
       "      <td>5</td>\n",
       "      <td>45</td>\n",
       "    </tr>\n",
       "    <tr>\n",
       "      <th>3204</th>\n",
       "      <td>3205</td>\n",
       "      <td>Henry IV</td>\n",
       "      <td>8.0</td>\n",
       "      <td>NaN</td>\n",
       "      <td>KING HENRY IV</td>\n",
       "      <td>Exeunt</td>\n",
       "      <td>[Exeunt]</td>\n",
       "      <td>0</td>\n",
       "      <td>0</td>\n",
       "      <td>0</td>\n",
       "      <td>0</td>\n",
       "      <td>0</td>\n",
       "      <td>0</td>\n",
       "      <td>0</td>\n",
       "      <td>0</td>\n",
       "      <td>0</td>\n",
       "      <td>0</td>\n",
       "      <td>0</td>\n",
       "      <td>0</td>\n",
       "      <td>0</td>\n",
       "    </tr>\n",
       "  </tbody>\n",
       "</table>\n",
       "<p>3205 rows × 20 columns</p>\n",
       "</div>"
      ],
      "text/plain": [
       "      Dataline      Play  PlayerLinenumber ActSceneLine         Player  \\\n",
       "0            1  Henry IV               NaN          NaN            NaN   \n",
       "1            2  Henry IV               NaN          NaN            NaN   \n",
       "2            3  Henry IV               NaN          NaN            NaN   \n",
       "3            4  Henry IV               1.0        1.1.1  KING HENRY IV   \n",
       "4            5  Henry IV               1.0        1.1.2  KING HENRY IV   \n",
       "...        ...       ...               ...          ...            ...   \n",
       "3200      3201  Henry IV               8.0       5.5.42  KING HENRY IV   \n",
       "3201      3202  Henry IV               8.0       5.5.43  KING HENRY IV   \n",
       "3202      3203  Henry IV               8.0       5.5.44  KING HENRY IV   \n",
       "3203      3204  Henry IV               8.0       5.5.45  KING HENRY IV   \n",
       "3204      3205  Henry IV               8.0          NaN  KING HENRY IV   \n",
       "\n",
       "                                             PlayerLine  \\\n",
       "0                                                 ACT I   \n",
       "1                          SCENE I. London. The palace.   \n",
       "2     Enter KING HENRY, LORD JOHN OF LANCASTER, the ...   \n",
       "3                So shaken as we are, so wan with care,   \n",
       "4            Find we a time for frighted peace to pant,   \n",
       "...                                                 ...   \n",
       "3200        Rebellion in this land shall lose his sway,   \n",
       "3201            Meeting the cheque of such another day:   \n",
       "3202           And since this business so fair is done,   \n",
       "3203          Let us not leave till all our own be won.   \n",
       "3204                                             Exeunt   \n",
       "\n",
       "                                                  Words  not  you  my  in  to  \\\n",
       "0                                              [ACT, I]    0    0   0   0   0   \n",
       "1                    [SCENE, I., London., The, palace.]    0    0   0   0   0   \n",
       "2     [Enter, KING, HENRY, LORD, JOHN, OF, LANCASTER...    0    0   0   0   0   \n",
       "3        [So, shaken, as, we, are, so, wan, with, care]    0    0   0   0   0   \n",
       "4     [Find, we, a, time, for, frighted, peace, to, ...    0    0   0   0   1   \n",
       "...                                                 ...  ...  ...  ..  ..  ..   \n",
       "3200  [Rebellion, in, this, land, shall, lose, his, ...    0    0   0   1   0   \n",
       "3201    [Meeting, the, cheque, of, such, another, day:]    0    0   0   0   0   \n",
       "3202   [And, since, this, business, so, fair, is, done]    0    0   0   0   0   \n",
       "3203  [Let, us, not, leave, till, all, our, own, be,...    1    0   0   0   0   \n",
       "3204                                           [Exeunt]    0    0   0   0   0   \n",
       "\n",
       "      a  of  I  and  the Act Scene Line  \n",
       "0     0   0  1    0    0   0     0    0  \n",
       "1     0   0  0    0    0   0     0    0  \n",
       "2     0   1  0    1    1   0     0    0  \n",
       "3     0   0  0    0    0   1     1    1  \n",
       "4     1   0  0    0    0   1     1    2  \n",
       "...  ..  .. ..  ...  ...  ..   ...  ...  \n",
       "3200  0   0  0    0    0   5     5   42  \n",
       "3201  0   1  0    0    1   5     5   43  \n",
       "3202  0   0  0    0    0   5     5   44  \n",
       "3203  0   0  0    0    0   5     5   45  \n",
       "3204  0   0  0    0    0   0     0    0  \n",
       "\n",
       "[3205 rows x 20 columns]"
      ]
     },
     "execution_count": 51,
     "metadata": {},
     "output_type": "execute_result"
    }
   ],
   "source": [
    "sData"
   ]
  },
  {
   "cell_type": "code",
   "execution_count": 73,
   "metadata": {},
   "outputs": [
    {
     "data": {
      "text/html": [
       "<div>\n",
       "<style scoped>\n",
       "    .dataframe tbody tr th:only-of-type {\n",
       "        vertical-align: middle;\n",
       "    }\n",
       "\n",
       "    .dataframe tbody tr th {\n",
       "        vertical-align: top;\n",
       "    }\n",
       "\n",
       "    .dataframe thead th {\n",
       "        text-align: right;\n",
       "    }\n",
       "</style>\n",
       "<table border=\"1\" class=\"dataframe\">\n",
       "  <thead>\n",
       "    <tr style=\"text-align: right;\">\n",
       "      <th></th>\n",
       "      <th>not</th>\n",
       "      <th>you</th>\n",
       "      <th>my</th>\n",
       "      <th>in</th>\n",
       "      <th>to</th>\n",
       "      <th>a</th>\n",
       "      <th>of</th>\n",
       "      <th>I</th>\n",
       "      <th>and</th>\n",
       "      <th>the</th>\n",
       "      <th>Act</th>\n",
       "      <th>Scene</th>\n",
       "      <th>Line</th>\n",
       "    </tr>\n",
       "  </thead>\n",
       "  <tbody>\n",
       "    <tr>\n",
       "      <th>0</th>\n",
       "      <td>0</td>\n",
       "      <td>0</td>\n",
       "      <td>0</td>\n",
       "      <td>0</td>\n",
       "      <td>0</td>\n",
       "      <td>0</td>\n",
       "      <td>0</td>\n",
       "      <td>1</td>\n",
       "      <td>0</td>\n",
       "      <td>0</td>\n",
       "      <td>0</td>\n",
       "      <td>0</td>\n",
       "      <td>0</td>\n",
       "    </tr>\n",
       "    <tr>\n",
       "      <th>1</th>\n",
       "      <td>0</td>\n",
       "      <td>0</td>\n",
       "      <td>0</td>\n",
       "      <td>0</td>\n",
       "      <td>0</td>\n",
       "      <td>0</td>\n",
       "      <td>0</td>\n",
       "      <td>0</td>\n",
       "      <td>0</td>\n",
       "      <td>0</td>\n",
       "      <td>0</td>\n",
       "      <td>0</td>\n",
       "      <td>0</td>\n",
       "    </tr>\n",
       "    <tr>\n",
       "      <th>2</th>\n",
       "      <td>0</td>\n",
       "      <td>0</td>\n",
       "      <td>0</td>\n",
       "      <td>0</td>\n",
       "      <td>0</td>\n",
       "      <td>0</td>\n",
       "      <td>1</td>\n",
       "      <td>0</td>\n",
       "      <td>1</td>\n",
       "      <td>1</td>\n",
       "      <td>0</td>\n",
       "      <td>0</td>\n",
       "      <td>0</td>\n",
       "    </tr>\n",
       "    <tr>\n",
       "      <th>3</th>\n",
       "      <td>0</td>\n",
       "      <td>0</td>\n",
       "      <td>0</td>\n",
       "      <td>0</td>\n",
       "      <td>0</td>\n",
       "      <td>0</td>\n",
       "      <td>0</td>\n",
       "      <td>0</td>\n",
       "      <td>0</td>\n",
       "      <td>0</td>\n",
       "      <td>1</td>\n",
       "      <td>1</td>\n",
       "      <td>1</td>\n",
       "    </tr>\n",
       "    <tr>\n",
       "      <th>4</th>\n",
       "      <td>0</td>\n",
       "      <td>0</td>\n",
       "      <td>0</td>\n",
       "      <td>0</td>\n",
       "      <td>1</td>\n",
       "      <td>1</td>\n",
       "      <td>0</td>\n",
       "      <td>0</td>\n",
       "      <td>0</td>\n",
       "      <td>0</td>\n",
       "      <td>1</td>\n",
       "      <td>1</td>\n",
       "      <td>2</td>\n",
       "    </tr>\n",
       "    <tr>\n",
       "      <th>...</th>\n",
       "      <td>...</td>\n",
       "      <td>...</td>\n",
       "      <td>...</td>\n",
       "      <td>...</td>\n",
       "      <td>...</td>\n",
       "      <td>...</td>\n",
       "      <td>...</td>\n",
       "      <td>...</td>\n",
       "      <td>...</td>\n",
       "      <td>...</td>\n",
       "      <td>...</td>\n",
       "      <td>...</td>\n",
       "      <td>...</td>\n",
       "    </tr>\n",
       "    <tr>\n",
       "      <th>3200</th>\n",
       "      <td>0</td>\n",
       "      <td>0</td>\n",
       "      <td>0</td>\n",
       "      <td>1</td>\n",
       "      <td>0</td>\n",
       "      <td>0</td>\n",
       "      <td>0</td>\n",
       "      <td>0</td>\n",
       "      <td>0</td>\n",
       "      <td>0</td>\n",
       "      <td>5</td>\n",
       "      <td>5</td>\n",
       "      <td>42</td>\n",
       "    </tr>\n",
       "    <tr>\n",
       "      <th>3201</th>\n",
       "      <td>0</td>\n",
       "      <td>0</td>\n",
       "      <td>0</td>\n",
       "      <td>0</td>\n",
       "      <td>0</td>\n",
       "      <td>0</td>\n",
       "      <td>1</td>\n",
       "      <td>0</td>\n",
       "      <td>0</td>\n",
       "      <td>1</td>\n",
       "      <td>5</td>\n",
       "      <td>5</td>\n",
       "      <td>43</td>\n",
       "    </tr>\n",
       "    <tr>\n",
       "      <th>3202</th>\n",
       "      <td>0</td>\n",
       "      <td>0</td>\n",
       "      <td>0</td>\n",
       "      <td>0</td>\n",
       "      <td>0</td>\n",
       "      <td>0</td>\n",
       "      <td>0</td>\n",
       "      <td>0</td>\n",
       "      <td>0</td>\n",
       "      <td>0</td>\n",
       "      <td>5</td>\n",
       "      <td>5</td>\n",
       "      <td>44</td>\n",
       "    </tr>\n",
       "    <tr>\n",
       "      <th>3203</th>\n",
       "      <td>1</td>\n",
       "      <td>0</td>\n",
       "      <td>0</td>\n",
       "      <td>0</td>\n",
       "      <td>0</td>\n",
       "      <td>0</td>\n",
       "      <td>0</td>\n",
       "      <td>0</td>\n",
       "      <td>0</td>\n",
       "      <td>0</td>\n",
       "      <td>5</td>\n",
       "      <td>5</td>\n",
       "      <td>45</td>\n",
       "    </tr>\n",
       "    <tr>\n",
       "      <th>3204</th>\n",
       "      <td>0</td>\n",
       "      <td>0</td>\n",
       "      <td>0</td>\n",
       "      <td>0</td>\n",
       "      <td>0</td>\n",
       "      <td>0</td>\n",
       "      <td>0</td>\n",
       "      <td>0</td>\n",
       "      <td>0</td>\n",
       "      <td>0</td>\n",
       "      <td>0</td>\n",
       "      <td>0</td>\n",
       "      <td>0</td>\n",
       "    </tr>\n",
       "  </tbody>\n",
       "</table>\n",
       "<p>3205 rows × 13 columns</p>\n",
       "</div>"
      ],
      "text/plain": [
       "      not  you  my  in  to  a  of  I  and  the Act Scene Line\n",
       "0       0    0   0   0   0  0   0  1    0    0   0     0    0\n",
       "1       0    0   0   0   0  0   0  0    0    0   0     0    0\n",
       "2       0    0   0   0   0  0   1  0    1    1   0     0    0\n",
       "3       0    0   0   0   0  0   0  0    0    0   1     1    1\n",
       "4       0    0   0   0   1  1   0  0    0    0   1     1    2\n",
       "...   ...  ...  ..  ..  .. ..  .. ..  ...  ...  ..   ...  ...\n",
       "3200    0    0   0   1   0  0   0  0    0    0   5     5   42\n",
       "3201    0    0   0   0   0  0   1  0    0    1   5     5   43\n",
       "3202    0    0   0   0   0  0   0  0    0    0   5     5   44\n",
       "3203    1    0   0   0   0  0   0  0    0    0   5     5   45\n",
       "3204    0    0   0   0   0  0   0  0    0    0   0     0    0\n",
       "\n",
       "[3205 rows x 13 columns]"
      ]
     },
     "execution_count": 73,
     "metadata": {},
     "output_type": "execute_result"
    }
   ],
   "source": []
  },
  {
   "cell_type": "code",
   "execution_count": 52,
   "metadata": {},
   "outputs": [],
   "source": [
    "sData = sData.drop(['Dataline', 'Play', 'PlayerLinenumber', 'ActSceneLine', 'PlayerLine', 'Words'], axis=1)"
   ]
  },
  {
   "cell_type": "code",
   "execution_count": 53,
   "metadata": {},
   "outputs": [
    {
     "data": {
      "text/html": [
       "<div>\n",
       "<style scoped>\n",
       "    .dataframe tbody tr th:only-of-type {\n",
       "        vertical-align: middle;\n",
       "    }\n",
       "\n",
       "    .dataframe tbody tr th {\n",
       "        vertical-align: top;\n",
       "    }\n",
       "\n",
       "    .dataframe thead th {\n",
       "        text-align: right;\n",
       "    }\n",
       "</style>\n",
       "<table border=\"1\" class=\"dataframe\">\n",
       "  <thead>\n",
       "    <tr style=\"text-align: right;\">\n",
       "      <th></th>\n",
       "      <th>Player</th>\n",
       "      <th>not</th>\n",
       "      <th>you</th>\n",
       "      <th>my</th>\n",
       "      <th>in</th>\n",
       "      <th>to</th>\n",
       "      <th>a</th>\n",
       "      <th>of</th>\n",
       "      <th>I</th>\n",
       "      <th>and</th>\n",
       "      <th>the</th>\n",
       "      <th>Act</th>\n",
       "      <th>Scene</th>\n",
       "      <th>Line</th>\n",
       "    </tr>\n",
       "  </thead>\n",
       "  <tbody>\n",
       "    <tr>\n",
       "      <th>0</th>\n",
       "      <td>NaN</td>\n",
       "      <td>0</td>\n",
       "      <td>0</td>\n",
       "      <td>0</td>\n",
       "      <td>0</td>\n",
       "      <td>0</td>\n",
       "      <td>0</td>\n",
       "      <td>0</td>\n",
       "      <td>1</td>\n",
       "      <td>0</td>\n",
       "      <td>0</td>\n",
       "      <td>0</td>\n",
       "      <td>0</td>\n",
       "      <td>0</td>\n",
       "    </tr>\n",
       "    <tr>\n",
       "      <th>1</th>\n",
       "      <td>NaN</td>\n",
       "      <td>0</td>\n",
       "      <td>0</td>\n",
       "      <td>0</td>\n",
       "      <td>0</td>\n",
       "      <td>0</td>\n",
       "      <td>0</td>\n",
       "      <td>0</td>\n",
       "      <td>0</td>\n",
       "      <td>0</td>\n",
       "      <td>0</td>\n",
       "      <td>0</td>\n",
       "      <td>0</td>\n",
       "      <td>0</td>\n",
       "    </tr>\n",
       "    <tr>\n",
       "      <th>2</th>\n",
       "      <td>NaN</td>\n",
       "      <td>0</td>\n",
       "      <td>0</td>\n",
       "      <td>0</td>\n",
       "      <td>0</td>\n",
       "      <td>0</td>\n",
       "      <td>0</td>\n",
       "      <td>1</td>\n",
       "      <td>0</td>\n",
       "      <td>1</td>\n",
       "      <td>1</td>\n",
       "      <td>0</td>\n",
       "      <td>0</td>\n",
       "      <td>0</td>\n",
       "    </tr>\n",
       "    <tr>\n",
       "      <th>3</th>\n",
       "      <td>KING HENRY IV</td>\n",
       "      <td>0</td>\n",
       "      <td>0</td>\n",
       "      <td>0</td>\n",
       "      <td>0</td>\n",
       "      <td>0</td>\n",
       "      <td>0</td>\n",
       "      <td>0</td>\n",
       "      <td>0</td>\n",
       "      <td>0</td>\n",
       "      <td>0</td>\n",
       "      <td>1</td>\n",
       "      <td>1</td>\n",
       "      <td>1</td>\n",
       "    </tr>\n",
       "    <tr>\n",
       "      <th>4</th>\n",
       "      <td>KING HENRY IV</td>\n",
       "      <td>0</td>\n",
       "      <td>0</td>\n",
       "      <td>0</td>\n",
       "      <td>0</td>\n",
       "      <td>1</td>\n",
       "      <td>1</td>\n",
       "      <td>0</td>\n",
       "      <td>0</td>\n",
       "      <td>0</td>\n",
       "      <td>0</td>\n",
       "      <td>1</td>\n",
       "      <td>1</td>\n",
       "      <td>2</td>\n",
       "    </tr>\n",
       "    <tr>\n",
       "      <th>...</th>\n",
       "      <td>...</td>\n",
       "      <td>...</td>\n",
       "      <td>...</td>\n",
       "      <td>...</td>\n",
       "      <td>...</td>\n",
       "      <td>...</td>\n",
       "      <td>...</td>\n",
       "      <td>...</td>\n",
       "      <td>...</td>\n",
       "      <td>...</td>\n",
       "      <td>...</td>\n",
       "      <td>...</td>\n",
       "      <td>...</td>\n",
       "      <td>...</td>\n",
       "    </tr>\n",
       "    <tr>\n",
       "      <th>3200</th>\n",
       "      <td>KING HENRY IV</td>\n",
       "      <td>0</td>\n",
       "      <td>0</td>\n",
       "      <td>0</td>\n",
       "      <td>1</td>\n",
       "      <td>0</td>\n",
       "      <td>0</td>\n",
       "      <td>0</td>\n",
       "      <td>0</td>\n",
       "      <td>0</td>\n",
       "      <td>0</td>\n",
       "      <td>5</td>\n",
       "      <td>5</td>\n",
       "      <td>42</td>\n",
       "    </tr>\n",
       "    <tr>\n",
       "      <th>3201</th>\n",
       "      <td>KING HENRY IV</td>\n",
       "      <td>0</td>\n",
       "      <td>0</td>\n",
       "      <td>0</td>\n",
       "      <td>0</td>\n",
       "      <td>0</td>\n",
       "      <td>0</td>\n",
       "      <td>1</td>\n",
       "      <td>0</td>\n",
       "      <td>0</td>\n",
       "      <td>1</td>\n",
       "      <td>5</td>\n",
       "      <td>5</td>\n",
       "      <td>43</td>\n",
       "    </tr>\n",
       "    <tr>\n",
       "      <th>3202</th>\n",
       "      <td>KING HENRY IV</td>\n",
       "      <td>0</td>\n",
       "      <td>0</td>\n",
       "      <td>0</td>\n",
       "      <td>0</td>\n",
       "      <td>0</td>\n",
       "      <td>0</td>\n",
       "      <td>0</td>\n",
       "      <td>0</td>\n",
       "      <td>0</td>\n",
       "      <td>0</td>\n",
       "      <td>5</td>\n",
       "      <td>5</td>\n",
       "      <td>44</td>\n",
       "    </tr>\n",
       "    <tr>\n",
       "      <th>3203</th>\n",
       "      <td>KING HENRY IV</td>\n",
       "      <td>1</td>\n",
       "      <td>0</td>\n",
       "      <td>0</td>\n",
       "      <td>0</td>\n",
       "      <td>0</td>\n",
       "      <td>0</td>\n",
       "      <td>0</td>\n",
       "      <td>0</td>\n",
       "      <td>0</td>\n",
       "      <td>0</td>\n",
       "      <td>5</td>\n",
       "      <td>5</td>\n",
       "      <td>45</td>\n",
       "    </tr>\n",
       "    <tr>\n",
       "      <th>3204</th>\n",
       "      <td>KING HENRY IV</td>\n",
       "      <td>0</td>\n",
       "      <td>0</td>\n",
       "      <td>0</td>\n",
       "      <td>0</td>\n",
       "      <td>0</td>\n",
       "      <td>0</td>\n",
       "      <td>0</td>\n",
       "      <td>0</td>\n",
       "      <td>0</td>\n",
       "      <td>0</td>\n",
       "      <td>0</td>\n",
       "      <td>0</td>\n",
       "      <td>0</td>\n",
       "    </tr>\n",
       "  </tbody>\n",
       "</table>\n",
       "<p>3205 rows × 14 columns</p>\n",
       "</div>"
      ],
      "text/plain": [
       "             Player  not  you  my  in  to  a  of  I  and  the Act Scene Line\n",
       "0               NaN    0    0   0   0   0  0   0  1    0    0   0     0    0\n",
       "1               NaN    0    0   0   0   0  0   0  0    0    0   0     0    0\n",
       "2               NaN    0    0   0   0   0  0   1  0    1    1   0     0    0\n",
       "3     KING HENRY IV    0    0   0   0   0  0   0  0    0    0   1     1    1\n",
       "4     KING HENRY IV    0    0   0   0   1  1   0  0    0    0   1     1    2\n",
       "...             ...  ...  ...  ..  ..  .. ..  .. ..  ...  ...  ..   ...  ...\n",
       "3200  KING HENRY IV    0    0   0   1   0  0   0  0    0    0   5     5   42\n",
       "3201  KING HENRY IV    0    0   0   0   0  0   1  0    0    1   5     5   43\n",
       "3202  KING HENRY IV    0    0   0   0   0  0   0  0    0    0   5     5   44\n",
       "3203  KING HENRY IV    1    0   0   0   0  0   0  0    0    0   5     5   45\n",
       "3204  KING HENRY IV    0    0   0   0   0  0   0  0    0    0   0     0    0\n",
       "\n",
       "[3205 rows x 14 columns]"
      ]
     },
     "execution_count": 53,
     "metadata": {},
     "output_type": "execute_result"
    }
   ],
   "source": [
    "sData"
   ]
  },
  {
   "cell_type": "code",
   "execution_count": 54,
   "metadata": {},
   "outputs": [],
   "source": [
    "X = sData[sData.columns[1:]]"
   ]
  },
  {
   "cell_type": "code",
   "execution_count": 55,
   "metadata": {},
   "outputs": [],
   "source": [
    "min_max_scaler = preprocessing.MinMaxScaler()\n",
    "X_scale = min_max_scaler.fit_transform(X)"
   ]
  },
  {
   "cell_type": "code",
   "execution_count": 56,
   "metadata": {},
   "outputs": [],
   "source": [
    "Y = sData['Player']"
   ]
  },
  {
   "cell_type": "code",
   "execution_count": 57,
   "metadata": {},
   "outputs": [],
   "source": [
    "Y = Y.replace(np.nan, \"\")"
   ]
  },
  {
   "cell_type": "code",
   "execution_count": 58,
   "metadata": {},
   "outputs": [
    {
     "data": {
      "text/plain": [
       "0                    \n",
       "1                    \n",
       "2                    \n",
       "3       KING HENRY IV\n",
       "4       KING HENRY IV\n",
       "            ...      \n",
       "3200    KING HENRY IV\n",
       "3201    KING HENRY IV\n",
       "3202    KING HENRY IV\n",
       "3203    KING HENRY IV\n",
       "3204    KING HENRY IV\n",
       "Name: Player, Length: 3205, dtype: object"
      ]
     },
     "execution_count": 58,
     "metadata": {},
     "output_type": "execute_result"
    }
   ],
   "source": [
    "Y"
   ]
  },
  {
   "cell_type": "code",
   "execution_count": 59,
   "metadata": {},
   "outputs": [],
   "source": [
    "Y = Y.astype('category').cat.codes"
   ]
  },
  {
   "cell_type": "code",
   "execution_count": 60,
   "metadata": {},
   "outputs": [],
   "source": [
    "#X_train, X_val_and_test, Y_train, Y_val_and_test = train_test_split(X_scale, Y, test_size=0.3)"
   ]
  },
  {
   "cell_type": "code",
   "execution_count": 61,
   "metadata": {},
   "outputs": [
    {
     "data": {
      "text/plain": [
       "0        0\n",
       "1        0\n",
       "2        0\n",
       "3       15\n",
       "4       15\n",
       "        ..\n",
       "3200    15\n",
       "3201    15\n",
       "3202    15\n",
       "3203    15\n",
       "3204    15\n",
       "Length: 3205, dtype: int8"
      ]
     },
     "execution_count": 61,
     "metadata": {},
     "output_type": "execute_result"
    }
   ],
   "source": [
    "Y"
   ]
  },
  {
   "cell_type": "code",
   "execution_count": 62,
   "metadata": {},
   "outputs": [],
   "source": [
    "#X_val, X_test, Y_val, Y_test = train_test_split(X_val_and_test, Y_val_and_test, test_size=0.5)"
   ]
  },
  {
   "cell_type": "code",
   "execution_count": 63,
   "metadata": {},
   "outputs": [],
   "source": [
    "#print(X_train.shape, X_val.shape, X_test.shape, Y_train.shape, Y_val.shape, Y_test.shape)"
   ]
  },
  {
   "cell_type": "code",
   "execution_count": 64,
   "metadata": {},
   "outputs": [],
   "source": [
    "#model = Sequential([    Dense(32, activation='relu', input_shape=(10,)),    Dense(32, activation='relu'),    Dense(1, activation='sigmoid'),])"
   ]
  },
  {
   "cell_type": "code",
   "execution_count": 65,
   "metadata": {},
   "outputs": [],
   "source": [
    "#opt = SGD(lr=0.01, momentum=0.9)\n",
    "#model.compile(optimizer=opt,              loss='categorical_crossentropy',              metrics=['accuracy'])"
   ]
  },
  {
   "cell_type": "code",
   "execution_count": 66,
   "metadata": {},
   "outputs": [],
   "source": [
    "#history = model.fit(X_train, Y_train, validation_data=(X_val, Y_val), epochs=1000, verbose=0)"
   ]
  },
  {
   "cell_type": "code",
   "execution_count": 67,
   "metadata": {},
   "outputs": [],
   "source": [
    "#train_acc = model.evaluate(X_train, Y_train, verbose=0)"
   ]
  },
  {
   "cell_type": "code",
   "execution_count": 68,
   "metadata": {},
   "outputs": [],
   "source": [
    "#test_acc = model.evaluate(X_val, Y_val, verbose=0)"
   ]
  },
  {
   "cell_type": "code",
   "execution_count": 69,
   "metadata": {},
   "outputs": [],
   "source": [
    "#print('Train: %.3f, Test: %.3f' % (train_acc[0], test_acc[0]))"
   ]
  },
  {
   "cell_type": "code",
   "execution_count": 70,
   "metadata": {},
   "outputs": [],
   "source": [
    "clf = make_pipeline(StandardScaler(), LinearSVC(random_state=0, tol=1e-5))"
   ]
  },
  {
   "cell_type": "code",
   "execution_count": 71,
   "metadata": {},
   "outputs": [
    {
     "name": "stderr",
     "output_type": "stream",
     "text": [
      "C:\\Users\\Brandon\\anaconda3\\lib\\site-packages\\sklearn\\svm\\_base.py:976: ConvergenceWarning: Liblinear failed to converge, increase the number of iterations.\n",
      "  warnings.warn(\"Liblinear failed to converge, increase \"\n"
     ]
    },
    {
     "data": {
      "text/plain": [
       "Pipeline(steps=[('standardscaler', StandardScaler()),\n",
       "                ('linearsvc', LinearSVC(random_state=0, tol=1e-05))])"
      ]
     },
     "execution_count": 71,
     "metadata": {},
     "output_type": "execute_result"
    }
   ],
   "source": [
    "clf.fit(X, Y)"
   ]
  },
  {
   "cell_type": "code",
   "execution_count": 72,
   "metadata": {},
   "outputs": [
    {
     "ename": "NameError",
     "evalue": "name 'Pipeline' is not defined",
     "output_type": "error",
     "traceback": [
      "\u001b[1;31m---------------------------------------------------------------------------\u001b[0m",
      "\u001b[1;31mNameError\u001b[0m                                 Traceback (most recent call last)",
      "\u001b[1;32m<ipython-input-72-f7d47bf67255>\u001b[0m in \u001b[0;36m<module>\u001b[1;34m\u001b[0m\n\u001b[1;32m----> 1\u001b[1;33m Pipeline(steps=[('standardscaler', StandardScaler()),\n\u001b[0m\u001b[0;32m      2\u001b[0m                 ('linearsvc', LinearSVC(random_state=0, tol=1e-05))])\n",
      "\u001b[1;31mNameError\u001b[0m: name 'Pipeline' is not defined"
     ]
    }
   ],
   "source": [
    "Pipeline(steps=[('standardscaler', StandardScaler()),\n",
    "                ('linearsvc', LinearSVC(random_state=0, tol=1e-05))])"
   ]
  },
  {
   "cell_type": "code",
   "execution_count": null,
   "metadata": {},
   "outputs": [],
   "source": [
    "print(clf.named_steps['linearsvc'].coef_)"
   ]
  },
  {
   "cell_type": "code",
   "execution_count": null,
   "metadata": {},
   "outputs": [],
   "source": [
    "print(clf.named_steps['linearsvc'].intercept_)"
   ]
  },
  {
   "cell_type": "code",
   "execution_count": null,
   "metadata": {},
   "outputs": [],
   "source": [
    "print(clf.predict([[0, 0, 0, 0, 0, 0, 0, 0, 0, 0,0,0,0]]))"
   ]
  },
  {
   "cell_type": "code",
   "execution_count": null,
   "metadata": {},
   "outputs": [],
   "source": []
  },
  {
   "cell_type": "code",
   "execution_count": null,
   "metadata": {},
   "outputs": [],
   "source": []
  }
 ],
 "metadata": {
  "kernelspec": {
   "display_name": "Python 3",
   "language": "python",
   "name": "python3"
  },
  "language_info": {
   "codemirror_mode": {
    "name": "ipython",
    "version": 3
   },
   "file_extension": ".py",
   "mimetype": "text/x-python",
   "name": "python",
   "nbconvert_exporter": "python",
   "pygments_lexer": "ipython3",
   "version": "3.8.3"
  }
 },
 "nbformat": 4,
 "nbformat_minor": 4
}
